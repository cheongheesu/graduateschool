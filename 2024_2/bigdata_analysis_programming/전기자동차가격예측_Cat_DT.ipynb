{
  "nbformat": 4,
  "nbformat_minor": 0,
  "metadata": {
    "colab": {
      "provenance": [],
      "gpuType": "T4"
    },
    "kernelspec": {
      "name": "python3",
      "display_name": "Python 3"
    },
    "language_info": {
      "name": "python"
    },
    "accelerator": "GPU"
  },
  "cells": [
    {
      "cell_type": "markdown",
      "source": [
        "## 전기차 정보를 이용한 차량 가격 예측 모델 개발"
      ],
      "metadata": {
        "id": "EWFKDk7b1pBS"
      }
    },
    {
      "cell_type": "markdown",
      "source": [
        "## CatBoost 모델 학습"
      ],
      "metadata": {
        "id": "G1NIzL_W3oKg"
      }
    },
    {
      "cell_type": "code",
      "source": [
        "# !pip install catboost"
      ],
      "metadata": {
        "colab": {
          "base_uri": "https://localhost:8080/"
        },
        "collapsed": true,
        "id": "f53lU-gI3_Z-",
        "outputId": "90e9ea5d-6263-4bed-838c-069807f12a6d"
      },
      "execution_count": null,
      "outputs": [
        {
          "output_type": "stream",
          "name": "stdout",
          "text": [
            "Collecting catboost\n",
            "  Downloading catboost-1.2.7-cp310-cp310-manylinux2014_x86_64.whl.metadata (1.2 kB)\n",
            "Requirement already satisfied: graphviz in /usr/local/lib/python3.10/dist-packages (from catboost) (0.20.3)\n",
            "Requirement already satisfied: matplotlib in /usr/local/lib/python3.10/dist-packages (from catboost) (3.8.0)\n",
            "Requirement already satisfied: numpy<2.0,>=1.16.0 in /usr/local/lib/python3.10/dist-packages (from catboost) (1.26.4)\n",
            "Requirement already satisfied: pandas>=0.24 in /usr/local/lib/python3.10/dist-packages (from catboost) (2.2.2)\n",
            "Requirement already satisfied: scipy in /usr/local/lib/python3.10/dist-packages (from catboost) (1.13.1)\n",
            "Requirement already satisfied: plotly in /usr/local/lib/python3.10/dist-packages (from catboost) (5.24.1)\n",
            "Requirement already satisfied: six in /usr/local/lib/python3.10/dist-packages (from catboost) (1.16.0)\n",
            "Requirement already satisfied: python-dateutil>=2.8.2 in /usr/local/lib/python3.10/dist-packages (from pandas>=0.24->catboost) (2.8.2)\n",
            "Requirement already satisfied: pytz>=2020.1 in /usr/local/lib/python3.10/dist-packages (from pandas>=0.24->catboost) (2024.2)\n",
            "Requirement already satisfied: tzdata>=2022.7 in /usr/local/lib/python3.10/dist-packages (from pandas>=0.24->catboost) (2024.2)\n",
            "Requirement already satisfied: contourpy>=1.0.1 in /usr/local/lib/python3.10/dist-packages (from matplotlib->catboost) (1.3.1)\n",
            "Requirement already satisfied: cycler>=0.10 in /usr/local/lib/python3.10/dist-packages (from matplotlib->catboost) (0.12.1)\n",
            "Requirement already satisfied: fonttools>=4.22.0 in /usr/local/lib/python3.10/dist-packages (from matplotlib->catboost) (4.55.1)\n",
            "Requirement already satisfied: kiwisolver>=1.0.1 in /usr/local/lib/python3.10/dist-packages (from matplotlib->catboost) (1.4.7)\n",
            "Requirement already satisfied: packaging>=20.0 in /usr/local/lib/python3.10/dist-packages (from matplotlib->catboost) (24.2)\n",
            "Requirement already satisfied: pillow>=6.2.0 in /usr/local/lib/python3.10/dist-packages (from matplotlib->catboost) (11.0.0)\n",
            "Requirement already satisfied: pyparsing>=2.3.1 in /usr/local/lib/python3.10/dist-packages (from matplotlib->catboost) (3.2.0)\n",
            "Requirement already satisfied: tenacity>=6.2.0 in /usr/local/lib/python3.10/dist-packages (from plotly->catboost) (9.0.0)\n",
            "Downloading catboost-1.2.7-cp310-cp310-manylinux2014_x86_64.whl (98.7 MB)\n",
            "\u001b[2K   \u001b[90m━━━━━━━━━━━━━━━━━━━━━━━━━━━━━━━━━━━━━━━━\u001b[0m \u001b[32m98.7/98.7 MB\u001b[0m \u001b[31m7.7 MB/s\u001b[0m eta \u001b[36m0:00:00\u001b[0m\n",
            "\u001b[?25hInstalling collected packages: catboost\n",
            "Successfully installed catboost-1.2.7\n"
          ]
        }
      ]
    },
    {
      "cell_type": "code",
      "source": [
        "import pandas as pd\n",
        "import numpy as np\n",
        "from sklearn.model_selection import train_test_split\n",
        "from sklearn.metrics import mean_squared_error, r2_score, mean_absolute_error\n",
        "from catboost import CatBoostRegressor"
      ],
      "metadata": {
        "id": "5X4DVEdG3Hc3"
      },
      "execution_count": null,
      "outputs": []
    },
    {
      "cell_type": "code",
      "source": [
        "# train data 확인\n",
        "train_data = pd.read_csv('/content/drive/MyDrive/train.csv')\n",
        "test_data = pd.read_csv('/content/drive/MyDrive/test.csv')"
      ],
      "metadata": {
        "id": "_HvnKw-13uML"
      },
      "execution_count": null,
      "outputs": []
    },
    {
      "cell_type": "code",
      "source": [
        "# 테스트 데이터의 제조사와 모델이 학습 데이터에 있는지 확인\n",
        "missing_manufacturers = set(test_data['제조사']) - set(train_data['제조사'])\n",
        "missing_models = set(test_data['모델']) - set(train_data['모델'])\n",
        "\n",
        "# 결과 출력\n",
        "if missing_manufacturers:\n",
        "    print(\"테스트 데이터에 있는 제조사 중 학습 데이터에 없는 제조사:\", missing_manufacturers)\n",
        "else:\n",
        "    print(\"모든 테스트 데이터의 제조사가 학습 데이터에 포함되어 있습니다.\")\n",
        "\n",
        "if missing_models:\n",
        "    print(\"테스트 데이터에 있는 모델 중 학습 데이터에 없는 모델:\", missing_models)\n",
        "else:\n",
        "    print(\"모든 테스트 데이터의 모델이 학습 데이터에 포함되어 있습니다.\")"
      ],
      "metadata": {
        "colab": {
          "base_uri": "https://localhost:8080/"
        },
        "id": "7x9IHL4h3uJs",
        "outputId": "fa30220d-d382-40ad-95af-68625edb7d44"
      },
      "execution_count": null,
      "outputs": [
        {
          "output_type": "stream",
          "name": "stdout",
          "text": [
            "모든 테스트 데이터의 제조사가 학습 데이터에 포함되어 있습니다.\n",
            "모든 테스트 데이터의 모델이 학습 데이터에 포함되어 있습니다.\n"
          ]
        }
      ]
    },
    {
      "cell_type": "code",
      "source": [
        "# 타겟 인코딩 함수\n",
        "def target_encoding_simple(df, target_col, group_col):\n",
        "    mean_target = df.groupby(group_col)[target_col].mean()\n",
        "    return df[group_col].map(mean_target)\n",
        "\n",
        "# 제조사와 모델에 대해 타겟 인코딩\n",
        "train_data['제조사_타겟인코딩'] = target_encoding_simple(train_data, '가격(백만원)', '제조사')\n",
        "test_data['제조사_타겟인코딩'] = test_data['제조사'].map(train_data.groupby('제조사')['가격(백만원)'].mean().round(3))\n",
        "\n",
        "train_data['모델_타겟인코딩'] = target_encoding_simple(train_data, '가격(백만원)', '모델')\n",
        "test_data['모델_타겟인코딩'] = test_data['모델'].map(train_data.groupby('모델')['가격(백만원)'].mean().round(3))"
      ],
      "metadata": {
        "id": "HlFEobMu4QkT"
      },
      "execution_count": null,
      "outputs": []
    },
    {
      "cell_type": "code",
      "source": [
        "# 범주형 변수 인코딩 (간소화)\n",
        "category_mapping = {\n",
        "    '차량상태': {'Brand New': 0, 'Nearly New': 1, 'Pre-Owned': 2},\n",
        "    '구동방식': {'AWD': 0, 'FWD': 1, 'RWD': 2},\n",
        "    '사고이력': {'No': 0, 'Yes': 1}\n",
        "}\n",
        "\n",
        "for col, mapping in category_mapping.items():\n",
        "    train_data[col] = train_data[col].map(mapping)\n",
        "    test_data[col] = test_data[col].map(mapping)\n",
        "\n",
        "# ID 열 제거\n",
        "train_data = train_data.drop(columns=['ID'], axis=1)"
      ],
      "metadata": {
        "id": "kD4EZI7I4Qhp"
      },
      "execution_count": null,
      "outputs": []
    },
    {
      "cell_type": "code",
      "source": [
        "# !pip install koreanize-matplotlib"
      ],
      "metadata": {
        "collapsed": true,
        "colab": {
          "base_uri": "https://localhost:8080/"
        },
        "id": "xyDLmsZn5hon",
        "outputId": "cda8fec4-330a-417d-d96a-d38a7fded98b"
      },
      "execution_count": null,
      "outputs": [
        {
          "output_type": "stream",
          "name": "stdout",
          "text": [
            "Collecting koreanize-matplotlib\n",
            "  Downloading koreanize_matplotlib-0.1.1-py3-none-any.whl.metadata (992 bytes)\n",
            "Requirement already satisfied: matplotlib in /usr/local/lib/python3.10/dist-packages (from koreanize-matplotlib) (3.8.0)\n",
            "Requirement already satisfied: contourpy>=1.0.1 in /usr/local/lib/python3.10/dist-packages (from matplotlib->koreanize-matplotlib) (1.3.1)\n",
            "Requirement already satisfied: cycler>=0.10 in /usr/local/lib/python3.10/dist-packages (from matplotlib->koreanize-matplotlib) (0.12.1)\n",
            "Requirement already satisfied: fonttools>=4.22.0 in /usr/local/lib/python3.10/dist-packages (from matplotlib->koreanize-matplotlib) (4.55.1)\n",
            "Requirement already satisfied: kiwisolver>=1.0.1 in /usr/local/lib/python3.10/dist-packages (from matplotlib->koreanize-matplotlib) (1.4.7)\n",
            "Requirement already satisfied: numpy<2,>=1.21 in /usr/local/lib/python3.10/dist-packages (from matplotlib->koreanize-matplotlib) (1.26.4)\n",
            "Requirement already satisfied: packaging>=20.0 in /usr/local/lib/python3.10/dist-packages (from matplotlib->koreanize-matplotlib) (24.2)\n",
            "Requirement already satisfied: pillow>=6.2.0 in /usr/local/lib/python3.10/dist-packages (from matplotlib->koreanize-matplotlib) (11.0.0)\n",
            "Requirement already satisfied: pyparsing>=2.3.1 in /usr/local/lib/python3.10/dist-packages (from matplotlib->koreanize-matplotlib) (3.2.0)\n",
            "Requirement already satisfied: python-dateutil>=2.7 in /usr/local/lib/python3.10/dist-packages (from matplotlib->koreanize-matplotlib) (2.8.2)\n",
            "Requirement already satisfied: six>=1.5 in /usr/local/lib/python3.10/dist-packages (from python-dateutil>=2.7->matplotlib->koreanize-matplotlib) (1.16.0)\n",
            "Downloading koreanize_matplotlib-0.1.1-py3-none-any.whl (7.9 MB)\n",
            "\u001b[2K   \u001b[90m━━━━━━━━━━━━━━━━━━━━━━━━━━━━━━━━━━━━━━━━\u001b[0m \u001b[32m7.9/7.9 MB\u001b[0m \u001b[31m55.5 MB/s\u001b[0m eta \u001b[36m0:00:00\u001b[0m\n",
            "\u001b[?25hInstalling collected packages: koreanize-matplotlib\n",
            "Successfully installed koreanize-matplotlib-0.1.1\n"
          ]
        }
      ]
    },
    {
      "cell_type": "code",
      "source": [
        "# 결측치 처리 (배터리 용량)\n",
        "import koreanize_matplotlib\n",
        "import matplotlib.pyplot as plt\n",
        "import seaborn as sns\n",
        "from sklearn.ensemble import RandomForestRegressor\n",
        "\n",
        "# 데이터의 숫자형 변수들만 추출\n",
        "numerical_df = train_data.select_dtypes(include=['float64', 'int64'])\n",
        "\n",
        "# 상관관계 계산\n",
        "correlation_matrix = numerical_df.corr()\n",
        "\n",
        "# 배터리 용량과 다른 변수와의 상관관계 시각화\n",
        "plt.figure(figsize=(10, 6))\n",
        "sns.heatmap(correlation_matrix[['배터리용량']].sort_values(by='배터리용량', ascending=False),\n",
        "            annot=True, cmap='coolwarm', linewidths=0.5)\n",
        "plt.title('Correlation with Battery Capacity')\n",
        "plt.show()\n",
        "\n",
        "# 결측치가 있는 행과 없는 행으로 데이터 분리\n",
        "non_missing_data = train_data[train_data['배터리용량'].notna()]\n",
        "missing_data = train_data[train_data['배터리용량'].isna()]\n",
        "\n",
        "# 사용할 변수 선택 (상관관계가 높은 변수들)\n",
        "features_for_imputation = ['보증기간(년)', '모델_타겟인코딩', '제조사_타겟인코딩']\n",
        "\n",
        "# 학습 데이터 준비\n",
        "X_train_impute = non_missing_data[features_for_imputation]\n",
        "y_train_impute = non_missing_data['배터리용량']\n",
        "\n",
        "# 결측치가 있는 데이터 준비\n",
        "if not missing_data.empty:\n",
        "    X_test_impute = missing_data[features_for_imputation]\n",
        "else:\n",
        "    print(\"No missing values in train_data for '배터리용량'.\")\n",
        "\n",
        "# RandomForest 모델 학습 및 예측\n",
        "rf_model = RandomForestRegressor(random_state=42, n_estimators=100)\n",
        "rf_model.fit(X_train_impute, y_train_impute)\n",
        "\n",
        "if not missing_data.empty:\n",
        "    predicted_values = rf_model.predict(X_test_impute)\n",
        "    train_data.loc[train_data['배터리용량'].isna(), '배터리용량'] = predicted_values\n",
        "    print(\"Train data battery capacity missing values filled.\")\n",
        "\n",
        "# 테스트 데이터에서 결측치 처리\n",
        "test_missing_data = test_data[test_data['배터리용량'].isna()]\n",
        "\n",
        "if not test_missing_data.empty:\n",
        "    X_test_missing = test_missing_data[features_for_imputation]\n",
        "    predicted_test_values = rf_model.predict(X_test_missing)\n",
        "    test_data.loc[test_data['배터리용량'].isna(), '배터리용량'] = predicted_test_values\n",
        "    print(\"Test data battery capacity missing values filled.\")\n"
      ],
      "metadata": {
        "colab": {
          "base_uri": "https://localhost:8080/",
          "height": 578
        },
        "id": "pJqUjVDU4Qe6",
        "outputId": "7c8e9c98-14ff-4482-d5e1-7806890a86ba"
      },
      "execution_count": null,
      "outputs": [
        {
          "output_type": "display_data",
          "data": {
            "text/plain": [
              "<Figure size 1000x600 with 2 Axes>"
            ],
            "image/png": "[encoded data removed]"
          },
          "metadata": {}
        },
        {
          "output_type": "stream",
          "name": "stdout",
          "text": [
            "Train data battery capacity missing values filled.\n",
            "Test data battery capacity missing values filled.\n"
          ]
        }
      ]
    },
    {
      "cell_type": "code",
      "source": [
        "# 독립 변수(features)와 종속 변수(target) 정의\n",
        "features = ['차량상태', '배터리용량', '구동방식','주행거리(km)',\n",
        "            '보증기간(년)','사고이력', '연식(년)', '제조사_타겟인코딩','모델_타겟인코딩']\n",
        "\n",
        "X = train_data[features]\n",
        "y = train_data['가격(백만원)']\n",
        "\n",
        "# 학습 데이터와 테스트 데이터 분리\n",
        "X_train, X_test, y_train, y_test = train_test_split(X, y, test_size=0.2, random_state=42)"
      ],
      "metadata": {
        "id": "sgoVQSDw5sbe"
      },
      "execution_count": null,
      "outputs": []
    },
    {
      "cell_type": "code",
      "source": [
        "# CatBoost 모델 생성 및 학습\n",
        "catboost_model = CatBoostRegressor(\n",
        "    iterations=300,\n",
        "    depth=6,\n",
        "    learning_rate=0.1,\n",
        "    random_seed=42,\n",
        "    verbose=0\n",
        ")\n",
        "catboost_model.fit(X_train, y_train)"
      ],
      "metadata": {
        "colab": {
          "base_uri": "https://localhost:8080/"
        },
        "id": "3TYWh0VE5sOd",
        "outputId": "01dabbae-c885-4735-c982-e6da952f7a73"
      },
      "execution_count": null,
      "outputs": [
        {
          "output_type": "execute_result",
          "data": {
            "text/plain": [
              "<catboost.core.CatBoostRegressor at 0x7d040c7ea1d0>"
            ]
          },
          "metadata": {},
          "execution_count": 30
        }
      ]
    },
    {
      "cell_type": "code",
      "source": [
        "# 예측\n",
        "y_pred = catboost_model.predict(X_test)"
      ],
      "metadata": {
        "id": "0lEtxCFP5034"
      },
      "execution_count": null,
      "outputs": []
    },
    {
      "cell_type": "code",
      "source": [
        "# 평가 지표 계산\n",
        "rmse = mean_squared_error(y_test, y_pred, squared=False)\n",
        "r2 = r2_score(y_test, y_pred)\n",
        "mae = mean_absolute_error(y_test, y_pred)\n",
        "\n",
        "print(f\"RMSE: {rmse}\")\n",
        "print(f\"R² Score: {r2}\")\n",
        "print(f\"MAE: {mae}\")"
      ],
      "metadata": {
        "colab": {
          "base_uri": "https://localhost:8080/"
        },
        "id": "MNHeUwNG501M",
        "outputId": "e40ee7d8-02f1-4624-c375-78c4cc5cc4dd"
      },
      "execution_count": null,
      "outputs": [
        {
          "output_type": "stream",
          "name": "stdout",
          "text": [
            "RMSE: 1.4690081635997994\n",
            "R² Score: 0.9984294116020267\n",
            "MAE: 0.7620652909375384\n"
          ]
        },
        {
          "output_type": "stream",
          "name": "stderr",
          "text": [
            "/usr/local/lib/python3.10/dist-packages/sklearn/metrics/_regression.py:492: FutureWarning: 'squared' is deprecated in version 1.4 and will be removed in 1.6. To calculate the root mean squared error, use the function'root_mean_squared_error'.\n",
            "  warnings.warn(\n"
          ]
        }
      ]
    },
    {
      "cell_type": "code",
      "source": [
        "# 테스트 데이터 예측\n",
        "test_features = test_data[features]\n",
        "test_predictions = catboost_model.predict(test_features)\n",
        "\n",
        "# 결과 저장: ID와 가격(백만원) 열만 유지\n",
        "submission = test_data[['ID']].copy()  # ID 열 복사\n",
        "submission['가격(백만원)'] = test_predictions  # 가격(백만원) 예측값 추가\n",
        "\n",
        "# 파일 저장\n",
        "submission.to_csv('/content/drive/MyDrive/predicted_prices_cat.csv', index=False)\n",
        "print(\"Predicted prices saved to 'predicted_prices_cat.csv'\")"
      ],
      "metadata": {
        "colab": {
          "base_uri": "https://localhost:8080/"
        },
        "id": "7-0RkSEC50yc",
        "outputId": "a35ab1a8-f7ef-4db6-bf69-94fd5fb3718b"
      },
      "execution_count": null,
      "outputs": [
        {
          "output_type": "stream",
          "name": "stdout",
          "text": [
            "Predicted prices saved to 'predicted_prices_cat.csv'\n"
          ]
        }
      ]
    },
    {
      "cell_type": "code",
      "source": [
        "# 하이퍼파라미터 튜닝\n",
        "from sklearn.model_selection import GridSearchCV\n",
        "\n",
        "# 하이퍼파라미터 후보 정의\n",
        "param_grid = {\n",
        "    'iterations': [100, 200, 300],\n",
        "    'depth': [6, 8, 10],\n",
        "    'learning_rate': [0.01, 0.05, 0.1]\n",
        "}\n",
        "\n",
        "# GridSearchCV 실행\n",
        "grid_search = GridSearchCV(\n",
        "    estimator=CatBoostRegressor(random_seed=42, verbose=0),\n",
        "    param_grid=param_grid,\n",
        "    scoring='neg_mean_squared_error',\n",
        "    cv=5\n",
        ")\n",
        "grid_search.fit(X_train, y_train)\n",
        "\n",
        "print(\"Best Parameters:\", grid_search.best_params_)"
      ],
      "metadata": {
        "colab": {
          "base_uri": "https://localhost:8080/"
        },
        "id": "lQGBVIeC3uHC",
        "outputId": "0277d0ca-3902-47d5-d455-e53fead239d3"
      },
      "execution_count": null,
      "outputs": [
        {
          "output_type": "stream",
          "name": "stdout",
          "text": [
            "Best Parameters: {'depth': 6, 'iterations': 300, 'learning_rate': 0.1}\n"
          ]
        }
      ]
    },
    {
      "cell_type": "markdown",
      "source": [
        "## Decision Tree 모델 학습"
      ],
      "metadata": {
        "id": "P9o3ySi69iyt"
      }
    },
    {
      "cell_type": "code",
      "source": [
        "import pandas as pd\n",
        "import numpy as np\n",
        "from sklearn.model_selection import train_test_split\n",
        "from sklearn.metrics import mean_squared_error, r2_score, mean_absolute_error\n",
        "from sklearn.tree import DecisionTreeRegressor\n",
        "\n",
        "# train data 확인\n",
        "train_data = pd.read_csv('/content/drive/MyDrive/train.csv')\n",
        "test_data = pd.read_csv('/content/drive/MyDrive/test.csv')\n",
        "\n",
        "# 테스트 데이터의 제조사와 모델이 학습 데이터에 있는지 확인\n",
        "missing_manufacturers = set(test_data['제조사']) - set(train_data['제조사'])\n",
        "missing_models = set(test_data['모델']) - set(train_data['모델'])\n",
        "\n",
        "# 결과 출력\n",
        "if missing_manufacturers:\n",
        "    print(\"테스트 데이터에 있는 제조사 중 학습 데이터에 없는 제조사:\", missing_manufacturers)\n",
        "else:\n",
        "    print(\"모든 테스트 데이터의 제조사가 학습 데이터에 포함되어 있습니다.\")\n",
        "\n",
        "if missing_models:\n",
        "    print(\"테스트 데이터에 있는 모델 중 학습 데이터에 없는 모델:\", missing_models)\n",
        "else:\n",
        "    print(\"모든 테스트 데이터의 모델이 학습 데이터에 포함되어 있습니다.\")\n",
        "\n",
        "# 타겟 인코딩 함수\n",
        "def target_encoding_simple(df, target_col, group_col):\n",
        "    mean_target = df.groupby(group_col)[target_col].mean()\n",
        "    return df[group_col].map(mean_target)\n",
        "\n",
        "# 제조사와 모델에 대해 타겟 인코딩\n",
        "train_data['제조사_타겟인코딩'] = target_encoding_simple(train_data, '가격(백만원)', '제조사')\n",
        "test_data['제조사_타겟인코딩'] = test_data['제조사'].map(train_data.groupby('제조사')['가격(백만원)'].mean().round(3))\n",
        "\n",
        "train_data['모델_타겟인코딩'] = target_encoding_simple(train_data, '가격(백만원)', '모델')\n",
        "test_data['모델_타겟인코딩'] = test_data['모델'].map(train_data.groupby('모델')['가격(백만원)'].mean().round(3))\n",
        "\n",
        "# 범주형 변수 인코딩 (간소화)\n",
        "category_mapping = {\n",
        "    '차량상태': {'Brand New': 0, 'Nearly New': 1, 'Pre-Owned': 2},\n",
        "    '구동방식': {'AWD': 0, 'FWD': 1, 'RWD': 2},\n",
        "    '사고이력': {'No': 0, 'Yes': 1}\n",
        "}\n",
        "\n",
        "for col, mapping in category_mapping.items():\n",
        "    train_data[col] = train_data[col].map(mapping)\n",
        "    test_data[col] = test_data[col].map(mapping)\n",
        "\n",
        "# ID 열 제거\n",
        "train_data = train_data.drop(columns=['ID'], axis=1)\n",
        "\n",
        "# !pip install koreanize-matplotlib\n",
        "\n",
        "# 결측치 처리 (배터리 용량)\n",
        "import koreanize_matplotlib\n",
        "import matplotlib.pyplot as plt\n",
        "import seaborn as sns\n",
        "from sklearn.ensemble import RandomForestRegressor\n",
        "\n",
        "# 데이터의 숫자형 변수들만 추출\n",
        "numerical_df = train_data.select_dtypes(include=['float64', 'int64'])\n",
        "\n",
        "# 상관관계 계산\n",
        "correlation_matrix = numerical_df.corr()\n",
        "\n",
        "# 배터리 용량과 다른 변수와의 상관관계 시각화\n",
        "plt.figure(figsize=(10, 6))\n",
        "sns.heatmap(correlation_matrix[['배터리용량']].sort_values(by='배터리용량', ascending=False),\n",
        "            annot=True, cmap='coolwarm', linewidths=0.5)\n",
        "plt.title('Correlation with Battery Capacity')\n",
        "plt.show()\n",
        "\n",
        "# 결측치가 있는 행과 없는 행으로 데이터 분리\n",
        "non_missing_data = train_data[train_data['배터리용량'].notna()]\n",
        "missing_data = train_data[train_data['배터리용량'].isna()]\n",
        "\n",
        "# 사용할 변수 선택 (상관관계가 높은 변수들)\n",
        "features_for_imputation = ['보증기간(년)', '모델_타겟인코딩', '제조사_타겟인코딩']\n",
        "\n",
        "# 학습 데이터 준비\n",
        "X_train_impute = non_missing_data[features_for_imputation]\n",
        "y_train_impute = non_missing_data['배터리용량']\n",
        "\n",
        "# 결측치가 있는 데이터 준비\n",
        "if not missing_data.empty:\n",
        "    X_test_impute = missing_data[features_for_imputation]\n",
        "else:\n",
        "    print(\"No missing values in train_data for '배터리용량'.\")\n",
        "\n",
        "# RandomForest 모델 학습 및 예측\n",
        "rf_model = RandomForestRegressor(random_state=42, n_estimators=100)\n",
        "rf_model.fit(X_train_impute, y_train_impute)\n",
        "\n",
        "if not missing_data.empty:\n",
        "    predicted_values = rf_model.predict(X_test_impute)\n",
        "    train_data.loc[train_data['배터리용량'].isna(), '배터리용량'] = predicted_values\n",
        "    print(\"Train data battery capacity missing values filled.\")\n",
        "\n",
        "# 테스트 데이터에서 결측치 처리\n",
        "test_missing_data = test_data[test_data['배터리용량'].isna()]\n",
        "\n",
        "if not test_missing_data.empty:\n",
        "    X_test_missing = test_missing_data[features_for_imputation]\n",
        "    predicted_test_values = rf_model.predict(X_test_missing)\n",
        "    test_data.loc[test_data['배터리용량'].isna(), '배터리용량'] = predicted_test_values\n",
        "    print(\"Test data battery capacity missing values filled.\")"
      ],
      "metadata": {
        "colab": {
          "base_uri": "https://localhost:8080/",
          "height": 612
        },
        "collapsed": true,
        "id": "8JVpZ7o19kwr",
        "outputId": "416a1e15-d6f8-41be-fd5c-8fc997702659"
      },
      "execution_count": null,
      "outputs": [
        {
          "output_type": "stream",
          "name": "stdout",
          "text": [
            "모든 테스트 데이터의 제조사가 학습 데이터에 포함되어 있습니다.\n",
            "모든 테스트 데이터의 모델이 학습 데이터에 포함되어 있습니다.\n"
          ]
        },
        {
          "output_type": "display_data",
          "data": {
            "text/plain": [
              "<Figure size 1000x600 with 2 Axes>"
            ],
            "image/png": "[encoded data removed]"
          },
          "metadata": {}
        },
        {
          "output_type": "stream",
          "name": "stdout",
          "text": [
            "Train data battery capacity missing values filled.\n",
            "Test data battery capacity missing values filled.\n"
          ]
        }
      ]
    },
    {
      "cell_type": "code",
      "source": [
        "# 독립 변수(features)와 종속 변수(target) 정의\n",
        "features = ['차량상태', '배터리용량', '구동방식','주행거리(km)',\n",
        "            '보증기간(년)','사고이력', '연식(년)', '제조사_타겟인코딩','모델_타겟인코딩']\n",
        "\n",
        "X = train_data[features]\n",
        "y = train_data['가격(백만원)']\n",
        "\n",
        "# 학습 데이터와 테스트 데이터 분리\n",
        "X_train, X_test, y_train, y_test = train_test_split(X, y, test_size=0.2, random_state=42)"
      ],
      "metadata": {
        "id": "iEdt-Woo-fUb"
      },
      "execution_count": null,
      "outputs": []
    },
    {
      "cell_type": "code",
      "source": [
        "# Decision Tree 모델 생성 및 학습\n",
        "dt_model = DecisionTreeRegressor(\n",
        "    max_depth=8,\n",
        "    min_samples_leaf=2,\n",
        "    min_samples_split=10,\n",
        "    random_state=42\n",
        ")\n",
        "dt_model.fit(X_train, y_train)\n",
        "\n",
        "# 예측\n",
        "y_pred = dt_model.predict(X_test)"
      ],
      "metadata": {
        "id": "jrXLhoOH-f8D"
      },
      "execution_count": null,
      "outputs": []
    },
    {
      "cell_type": "code",
      "source": [
        "# 평가 지표 계산\n",
        "rmse = mean_squared_error(y_test, y_pred, squared=False)\n",
        "r2 = r2_score(y_test, y_pred)\n",
        "mae = mean_absolute_error(y_test, y_pred)\n",
        "\n",
        "print(f\"RMSE: {rmse}\")\n",
        "print(f\"R² Score: {r2}\")\n",
        "print(f\"MAE: {mae}\")"
      ],
      "metadata": {
        "colab": {
          "base_uri": "https://localhost:8080/"
        },
        "id": "-1e2FLE3-f5m",
        "outputId": "92002464-cb75-47b1-bb0b-502011024a8b"
      },
      "execution_count": null,
      "outputs": [
        {
          "output_type": "stream",
          "name": "stdout",
          "text": [
            "RMSE: 1.50865130111366\n",
            "R² Score: 0.9983434989719939\n",
            "MAE: 0.7668668285933965\n"
          ]
        },
        {
          "output_type": "stream",
          "name": "stderr",
          "text": [
            "/usr/local/lib/python3.10/dist-packages/sklearn/metrics/_regression.py:492: FutureWarning: 'squared' is deprecated in version 1.4 and will be removed in 1.6. To calculate the root mean squared error, use the function'root_mean_squared_error'.\n",
            "  warnings.warn(\n"
          ]
        }
      ]
    },
    {
      "cell_type": "code",
      "source": [
        "# 테스트 데이터 예측\n",
        "test_features = test_data[features]\n",
        "test_predictions = dt_model.predict(test_features)\n",
        "\n",
        "# 결과 저장: ID와 가격(백만원) 열만 유지\n",
        "submission = test_data[['ID']].copy()  # ID 열 복사\n",
        "submission['가격(백만원)'] = test_predictions  # 가격(백만원) 예측값 추가\n",
        "\n",
        "# 파일 저장\n",
        "submission.to_csv('/content/drive/MyDrive/predicted_prices_dt.csv', index=False)\n",
        "print(\"Predicted prices saved to 'predicted_prices_dt.csv'\")"
      ],
      "metadata": {
        "colab": {
          "base_uri": "https://localhost:8080/"
        },
        "id": "Ot0dq-hh-f3O",
        "outputId": "5191319a-bc2f-46fa-d354-383369508c7c"
      },
      "execution_count": null,
      "outputs": [
        {
          "output_type": "stream",
          "name": "stdout",
          "text": [
            "Predicted prices saved to 'predicted_prices_dt.csv'\n"
          ]
        }
      ]
    },
    {
      "cell_type": "code",
      "source": [
        "# 하이퍼파라미터 튜닝\n",
        "from sklearn.model_selection import GridSearchCV\n",
        "\n",
        "# 하이퍼파라미터 후보 정의\n",
        "param_grid = {\n",
        "    'max_depth': [4, 6, 8, 10],\n",
        "    'min_samples_split': [2, 5, 10],\n",
        "    'min_samples_leaf': [1, 2, 4]\n",
        "}\n",
        "\n",
        "# GridSearchCV 실행\n",
        "grid_search = GridSearchCV(\n",
        "    estimator=DecisionTreeRegressor(random_state=42),\n",
        "    param_grid=param_grid,\n",
        "    scoring='neg_mean_squared_error',\n",
        "    cv=5\n",
        ")\n",
        "grid_search.fit(X_train, y_train)\n",
        "\n",
        "print(\"Best Parameters:\", grid_search.best_params_)"
      ],
      "metadata": {
        "colab": {
          "base_uri": "https://localhost:8080/"
        },
        "id": "5kGdr0gN-maL",
        "outputId": "d680e7f1-c978-4ebb-8277-f507f57ccbf6"
      },
      "execution_count": null,
      "outputs": [
        {
          "output_type": "stream",
          "name": "stdout",
          "text": [
            "Best Parameters: {'max_depth': 8, 'min_samples_leaf': 2, 'min_samples_split': 10}\n"
          ]
        }
      ]
    }
  ]
}