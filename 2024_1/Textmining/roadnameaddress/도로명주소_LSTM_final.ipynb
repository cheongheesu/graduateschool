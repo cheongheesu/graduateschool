{
  "nbformat": 4,
  "nbformat_minor": 0,
  "metadata": {
    "colab": {
      "provenance": [],
      "machine_shape": "hm",
      "gpuType": "L4"
    },
    "kernelspec": {
      "name": "python3",
      "display_name": "Python 3"
    },
    "language_info": {
      "name": "python"
    },
    "accelerator": "GPU"
  },
  "cells": [
    {
      "cell_type": "code",
      "source": [
        "!pip install keras-tuner"
      ],
      "metadata": {
        "colab": {
          "base_uri": "https://localhost:8080/"
        },
        "collapsed": true,
        "id": "oSb3mXiFFYkJ",
        "outputId": "94f58f44-ec14-4ca6-d0e4-c474dd67407f"
      },
      "execution_count": null,
      "outputs": [
        {
          "output_type": "stream",
          "name": "stdout",
          "text": [
            "Collecting keras-tuner\n",
            "  Downloading keras_tuner-1.4.7-py3-none-any.whl (129 kB)\n",
            "\u001b[?25l     \u001b[90m━━━━━━━━━━━━━━━━━━━━━━━━━━━━━━━━━━━━━━━━\u001b[0m \u001b[32m0.0/129.1 kB\u001b[0m \u001b[31m?\u001b[0m eta \u001b[36m-:--:--\u001b[0m\r\u001b[2K     \u001b[90m━━━━━━━━━━━━━━━━━━━━━━━━━━━━━━━━━━━━━━━━\u001b[0m \u001b[32m129.1/129.1 kB\u001b[0m \u001b[31m4.0 MB/s\u001b[0m eta \u001b[36m0:00:00\u001b[0m\n",
            "\u001b[?25hRequirement already satisfied: keras in /usr/local/lib/python3.10/dist-packages (from keras-tuner) (2.15.0)\n",
            "Requirement already satisfied: packaging in /usr/local/lib/python3.10/dist-packages (from keras-tuner) (24.0)\n",
            "Requirement already satisfied: requests in /usr/local/lib/python3.10/dist-packages (from keras-tuner) (2.31.0)\n",
            "Collecting kt-legacy (from keras-tuner)\n",
            "  Downloading kt_legacy-1.0.5-py3-none-any.whl (9.6 kB)\n",
            "Requirement already satisfied: charset-normalizer<4,>=2 in /usr/local/lib/python3.10/dist-packages (from requests->keras-tuner) (3.3.2)\n",
            "Requirement already satisfied: idna<4,>=2.5 in /usr/local/lib/python3.10/dist-packages (from requests->keras-tuner) (3.7)\n",
            "Requirement already satisfied: urllib3<3,>=1.21.1 in /usr/local/lib/python3.10/dist-packages (from requests->keras-tuner) (2.0.7)\n",
            "Requirement already satisfied: certifi>=2017.4.17 in /usr/local/lib/python3.10/dist-packages (from requests->keras-tuner) (2024.6.2)\n",
            "Installing collected packages: kt-legacy, keras-tuner\n",
            "Successfully installed keras-tuner-1.4.7 kt-legacy-1.0.5\n"
          ]
        }
      ]
    },
    {
      "cell_type": "code",
      "source": [
        "import pandas as pd\n",
        "import numpy as np\n",
        "from tensorflow.keras.preprocessing.text import Tokenizer\n",
        "from tensorflow.keras.preprocessing.sequence import pad_sequences\n",
        "from tensorflow.keras.models import Sequential\n",
        "from tensorflow.keras.layers import LSTM, Dense, Embedding\n",
        "from tensorflow.keras.callbacks import EarlyStopping\n",
        "from tensorflow.keras.optimizers import Adam\n",
        "from keras_tuner import RandomSearch"
      ],
      "metadata": {
        "id": "ok1bkVbk-IfO"
      },
      "execution_count": null,
      "outputs": []
    },
    {
      "cell_type": "code",
      "source": [
        "# 데이터 로딩\n",
        "train_data = pd.read_csv('/content/drive/MyDrive/Colab Notebooks/training.csv')\n",
        "validation_data = pd.read_csv('/content/drive/MyDrive/Colab Notebooks/validation.csv')"
      ],
      "metadata": {
        "id": "sRDlvXEn-xG6"
      },
      "execution_count": null,
      "outputs": []
    },
    {
      "cell_type": "code",
      "source": [
        "def preprocess_data(df):\n",
        "    df = df[['Origin Address', 'ex Add']].dropna()\n",
        "    return df\n",
        "\n",
        "train_data = preprocess_data(train_data)\n",
        "validation_data = preprocess_data(validation_data)\n"
      ],
      "metadata": {
        "id": "8fDaBa3RFprx"
      },
      "execution_count": null,
      "outputs": []
    },
    {
      "cell_type": "code",
      "source": [
        "# 토크나이저 생성 및 훈련\n",
        "tokenizer = Tokenizer()\n",
        "tokenizer.fit_on_texts(train_data['ex Add'].tolist() + validation_data['ex Add'].tolist())\n",
        "\n",
        "train_sequences = tokenizer.texts_to_sequences(train_data['ex Add'].tolist())\n",
        "validation_sequences = tokenizer.texts_to_sequences(validation_data['ex Add'].tolist())\n",
        "\n",
        "max_length = max(len(seq) for seq in train_sequences + validation_sequences)\n",
        "train_padded = pad_sequences(train_sequences, maxlen=max_length, padding='post')\n",
        "validation_padded = pad_sequences(validation_sequences, maxlen=max_length, padding='post')\n",
        "\n",
        "address_tokenizer = Tokenizer()\n",
        "address_tokenizer.fit_on_texts(train_data['Origin Address'].tolist() + validation_data['Origin Address'].tolist())\n",
        "\n",
        "train_labels = address_tokenizer.texts_to_sequences(train_data['Origin Address'].tolist())\n",
        "validation_labels = address_tokenizer.texts_to_sequences(validation_data['Origin Address'].tolist())\n",
        "\n",
        "train_labels_padded = pad_sequences(train_labels, maxlen=max_length, padding='post')\n",
        "validation_labels_padded = pad_sequences(validation_labels, maxlen=max_length, padding='post')\n",
        "\n",
        "def build_model(hp):\n",
        "    model = Sequential([\n",
        "        Embedding(input_dim=len(tokenizer.word_index) + 1,\n",
        "                  output_dim=hp.Int('embedding_dim', min_value=32, max_value=128, step=32),\n",
        "                  input_length=max_length),\n",
        "        LSTM(hp.Int('lstm_units', min_value=32, max_value=128, step=32), return_sequences=True),\n",
        "        LSTM(hp.Int('lstm_units', min_value=32, max_value=128, step=32)),\n",
        "        Dense(hp.Int('dense_units', min_value=32, max_value=128, step=32), activation='relu'),\n",
        "        Dense(len(address_tokenizer.word_index) + 1, activation='softmax')\n",
        "    ])\n",
        "    model.compile(optimizer=Adam(learning_rate=hp.Float('learning_rate', min_value=1e-5, max_value=1e-2, sampling='LOG')),\n",
        "                  loss='sparse_categorical_crossentropy',\n",
        "                  metrics=['accuracy'])\n",
        "    return model\n"
      ],
      "metadata": {
        "id": "pfG5qnPNFqRQ"
      },
      "execution_count": null,
      "outputs": []
    },
    {
      "cell_type": "code",
      "source": [
        "# 조기 종료 설정\n",
        "early_stopping = EarlyStopping(monitor='val_loss', patience=5, restore_best_weights=True)\n",
        "\n",
        "tuner = RandomSearch(\n",
        "    build_model,\n",
        "    objective='val_accuracy',\n",
        "    max_trials=10,\n",
        "    executions_per_trial=1,\n",
        "    directory='model_tuning',\n",
        "    project_name='AddressTranslation'\n",
        ")\n"
      ],
      "metadata": {
        "id": "tZg8Ps7wFxq0"
      },
      "execution_count": null,
      "outputs": []
    },
    {
      "cell_type": "code",
      "source": [
        "# 튜너 검색 실행\n",
        "tuner.search(train_padded, np.argmax(train_labels_padded, axis=1), epochs=50, validation_data=(validation_padded, np.argmax(validation_labels_padded, axis=1)), callbacks=[early_stopping])\n",
        "best_model = tuner.get_best_models(num_models=1)[0]"
      ],
      "metadata": {
        "colab": {
          "base_uri": "https://localhost:8080/"
        },
        "id": "v2N7mjLRF1NQ",
        "outputId": "e588706d-7f89-4af5-9104-37ef2ba163ee"
      },
      "execution_count": null,
      "outputs": [
        {
          "output_type": "stream",
          "name": "stdout",
          "text": [
            "Trial 10 Complete [00h 02m 05s]\n",
            "val_accuracy: 0.9088654518127441\n",
            "\n",
            "Best val_accuracy So Far: 0.9088654518127441\n",
            "Total elapsed time: 00h 24m 05s\n"
          ]
        }
      ]
    },
    {
      "cell_type": "code",
      "source": [
        "# 하이퍼파라미터 출력\n",
        "best_hyperparameters = tuner.get_best_hyperparameters(num_trials=1)[0]\n",
        "print(f\"Embedding Dimension: {best_hyperparameters.get('embedding_dim')}\")\n",
        "print(f\"LSTM Units: {best_hyperparameters.get('lstm_units')}\")\n",
        "print(f\"Dense Units: {best_hyperparameters.get('dense_units')}\")\n",
        "print(f\"Learning Rate: {best_hyperparameters.get('learning_rate')}\")"
      ],
      "metadata": {
        "colab": {
          "base_uri": "https://localhost:8080/"
        },
        "id": "23_Us_seTtlb",
        "outputId": "2755d13c-85b1-4eed-f621-693c83e0440d"
      },
      "execution_count": 12,
      "outputs": [
        {
          "output_type": "stream",
          "name": "stdout",
          "text": [
            "Embedding Dimension: 128\n",
            "LSTM Units: 128\n",
            "Dense Units: 32\n",
            "Learning Rate: 0.000602751646027759\n"
          ]
        }
      ]
    },
    {
      "cell_type": "code",
      "source": [
        "from sklearn.metrics import f1_score, recall_score, precision_score, accuracy_score\n",
        "\n",
        "# 모델 평가\n",
        "validation_predictions = best_model.predict(validation_padded)\n",
        "validation_predictions = np.argmax(validation_predictions, axis=1)\n",
        "\n",
        "# Flatten the padded validation labels\n",
        "validation_labels_flat = np.argmax(validation_labels_padded, axis=1)\n",
        "\n",
        "# Calculate metrics\n",
        "accuracy = accuracy_score(validation_labels_flat, validation_predictions)\n",
        "precision = precision_score(validation_labels_flat, validation_predictions, average='weighted')\n",
        "recall = recall_score(validation_labels_flat, validation_predictions, average='weighted')\n",
        "f1 = f1_score(validation_labels_flat, validation_predictions, average='weighted')\n",
        "\n",
        "print(f'Accuracy: {accuracy}')\n",
        "print(f'Precision: {precision}')\n",
        "print(f'Recall: {recall}')\n",
        "print(f'F1 Score: {f1}')"
      ],
      "metadata": {
        "colab": {
          "base_uri": "https://localhost:8080/"
        },
        "id": "1Fz9-UhANPe3",
        "outputId": "7ae163c1-71b6-4782-88d2-1c084e7e971d"
      },
      "execution_count": null,
      "outputs": [
        {
          "output_type": "stream",
          "name": "stdout",
          "text": [
            "303/303 [==============================] - 1s 2ms/step\n",
            "Accuracy: 0.9088654680719157\n",
            "Precision: 0.8998771238543575\n",
            "Recall: 0.9088654680719157\n",
            "F1 Score: 0.8843403634691157\n"
          ]
        }
      ]
    }
  ]
}