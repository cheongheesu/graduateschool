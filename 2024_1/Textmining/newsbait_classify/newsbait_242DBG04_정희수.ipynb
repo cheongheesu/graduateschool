{
 "cells": [
  {
   "cell_type": "markdown",
   "metadata": {},
   "source": [
    "### 프로젝트명 : 낚시성 기사 탐지 모델 개발\n",
    "### 242DBG04_정희수\n",
    "\n"
   ]
  },
  {
   "cell_type": "markdown",
   "metadata": {},
   "source": [
    "#### 1. 데이터 수집 및 전처리"
   ]
  },
  {
   "cell_type": "markdown",
   "metadata": {},
   "source": [
    "1) AI-Hub 에서 \"낚시성 기사 탐지\" 데이터 다운로드\n",
    "2) Train 과 Valid 에 해당하는 데이터들 중, 각 산업별로 파일명, 뉴스 기사 본문 (newscontent), 낚시성 여부 (clickbaitClass) columns 을 추출\n",
    "3) 뉴스 기사 본문 추출 시, 정규화 작업을 통해 특수문자 제거\n",
    "4) 각 산업별로 낚시성 기사와 비낚시성 기사 통합\n",
    "5) 최종적으로 모델 학습에 사용할 train 과 valid 데이터로 DB 만들기"
   ]
  },
  {
   "cell_type": "code",
   "execution_count": null,
   "metadata": {},
   "outputs": [
    {
     "name": "stdout",
     "output_type": "stream",
     "text": [
      "Total number of files processed: 7007\n",
      "\n"
     ]
    },
    {
     "data": {
      "text/html": [
       "<div>\n",
       "<style scoped>\n",
       "    .dataframe tbody tr th:only-of-type {\n",
       "        vertical-align: middle;\n",
       "    }\n",
       "\n",
       "    .dataframe tbody tr th {\n",
       "        vertical-align: top;\n",
       "    }\n",
       "\n",
       "    .dataframe thead th {\n",
       "        text-align: right;\n",
       "    }\n",
       "</style>\n",
       "<table border=\"1\" class=\"dataframe\">\n",
       "  <thead>\n",
       "    <tr style=\"text-align: right;\">\n",
       "      <th></th>\n",
       "      <th>filename</th>\n",
       "      <th>newsContent</th>\n",
       "      <th>clickbaitClass</th>\n",
       "    </tr>\n",
       "  </thead>\n",
       "  <tbody>\n",
       "    <tr>\n",
       "      <th>0</th>\n",
       "      <td>EC_M02_155904_L.json</td>\n",
       "      <td>기관 투자가 스튜어드십 코드 도입 일지 기관 투자가들이 속속 스튜어드십 코드를 도입...</td>\n",
       "      <td>0</td>\n",
       "    </tr>\n",
       "    <tr>\n",
       "      <th>1</th>\n",
       "      <td>EC_M02_155905_L.json</td>\n",
       "      <td>공공 구매에 사회 가치가 본격적으로 반영되고 있다.공공 구매 때 사회 가치를 반영하...</td>\n",
       "      <td>0</td>\n",
       "    </tr>\n",
       "    <tr>\n",
       "      <th>2</th>\n",
       "      <td>EC_M02_155906_L.json</td>\n",
       "      <td>금융권이 중소·벤처기업 지원에 앞장서고 있다.중소·벤처기업을 도우면 은행의 이미지가...</td>\n",
       "      <td>0</td>\n",
       "    </tr>\n",
       "    <tr>\n",
       "      <th>3</th>\n",
       "      <td>EC_M02_155907_L.json</td>\n",
       "      <td>현대자동차그룹이 최저임금 인상 어려움을 겪는 2·3차 협력사에 1,500억을 지원한...</td>\n",
       "      <td>0</td>\n",
       "    </tr>\n",
       "    <tr>\n",
       "      <th>4</th>\n",
       "      <td>EC_M02_155908_L.json</td>\n",
       "      <td>공정거래위원회가 지주회사의 수익구조 파악을 위한 실태조사에 나섰다.공정위는 대기업집...</td>\n",
       "      <td>0</td>\n",
       "    </tr>\n",
       "    <tr>\n",
       "      <th>...</th>\n",
       "      <td>...</td>\n",
       "      <td>...</td>\n",
       "      <td>...</td>\n",
       "    </tr>\n",
       "    <tr>\n",
       "      <th>7002</th>\n",
       "      <td>EC_M05_164958_L.json</td>\n",
       "      <td>\"월 200대 생산라인인데 7월에 고작 10대 생산했어요\" 국제 원자재 가격 폭등으...</td>\n",
       "      <td>0</td>\n",
       "    </tr>\n",
       "    <tr>\n",
       "      <th>7003</th>\n",
       "      <td>EC_M05_164960_L.json</td>\n",
       "      <td>휴가철이다.바닷가에서 놀고는 싶은데 여름의 뜨거운 태양은 피하고 싶다.여행을 갈 때...</td>\n",
       "      <td>0</td>\n",
       "    </tr>\n",
       "    <tr>\n",
       "      <th>7004</th>\n",
       "      <td>EC_M05_164961_L.json</td>\n",
       "      <td>\"여름휴가 만이라도 '육퇴'할게요\"…호텔도 '돌봄 경쟁'서울 강남구에 사는 정성민씨...</td>\n",
       "      <td>0</td>\n",
       "    </tr>\n",
       "    <tr>\n",
       "      <th>7005</th>\n",
       "      <td>EC_M05_164962_L.json</td>\n",
       "      <td>강석훈 KDB산업은행 회장은 28일 \"(대우조선해양, 아시아나항공 등) 주요 구조조...</td>\n",
       "      <td>0</td>\n",
       "    </tr>\n",
       "    <tr>\n",
       "      <th>7006</th>\n",
       "      <td>EC_M05_164963_L.json</td>\n",
       "      <td>실수요자 중심의 전세자금대출 금리가 6%를 넘기며 서민들의 부담이 눈덩이처럼 불어나...</td>\n",
       "      <td>0</td>\n",
       "    </tr>\n",
       "  </tbody>\n",
       "</table>\n",
       "<p>7007 rows × 3 columns</p>\n",
       "</div>"
      ],
      "text/plain": [
       "                  filename                                        newsContent  \\\n",
       "0     EC_M02_155904_L.json  기관 투자가 스튜어드십 코드 도입 일지 기관 투자가들이 속속 스튜어드십 코드를 도입...   \n",
       "1     EC_M02_155905_L.json  공공 구매에 사회 가치가 본격적으로 반영되고 있다.공공 구매 때 사회 가치를 반영하...   \n",
       "2     EC_M02_155906_L.json  금융권이 중소·벤처기업 지원에 앞장서고 있다.중소·벤처기업을 도우면 은행의 이미지가...   \n",
       "3     EC_M02_155907_L.json  현대자동차그룹이 최저임금 인상 어려움을 겪는 2·3차 협력사에 1,500억을 지원한...   \n",
       "4     EC_M02_155908_L.json  공정거래위원회가 지주회사의 수익구조 파악을 위한 실태조사에 나섰다.공정위는 대기업집...   \n",
       "...                    ...                                                ...   \n",
       "7002  EC_M05_164958_L.json  \"월 200대 생산라인인데 7월에 고작 10대 생산했어요\" 국제 원자재 가격 폭등으...   \n",
       "7003  EC_M05_164960_L.json  휴가철이다.바닷가에서 놀고는 싶은데 여름의 뜨거운 태양은 피하고 싶다.여행을 갈 때...   \n",
       "7004  EC_M05_164961_L.json  \"여름휴가 만이라도 '육퇴'할게요\"…호텔도 '돌봄 경쟁'서울 강남구에 사는 정성민씨...   \n",
       "7005  EC_M05_164962_L.json  강석훈 KDB산업은행 회장은 28일 \"(대우조선해양, 아시아나항공 등) 주요 구조조...   \n",
       "7006  EC_M05_164963_L.json  실수요자 중심의 전세자금대출 금리가 6%를 넘기며 서민들의 부담이 눈덩이처럼 불어나...   \n",
       "\n",
       "      clickbaitClass  \n",
       "0                  0  \n",
       "1                  0  \n",
       "2                  0  \n",
       "3                  0  \n",
       "4                  0  \n",
       "...              ...  \n",
       "7002               0  \n",
       "7003               0  \n",
       "7004               0  \n",
       "7005               0  \n",
       "7006               0  \n",
       "\n",
       "[7007 rows x 3 columns]"
      ]
     },
     "metadata": {},
     "output_type": "display_data"
    }
   ],
   "source": [
    "import json\n",
    "import os\n",
    "import re\n",
    "\n",
    "# 경로 설정\n",
    "base_path = 'C:/Users/sport/OneDrive/바탕 화면/개인프로젝트/가짜뉴스탐지/Train/TL_Part1_Clickbait_Direct_EC'\n",
    "\n",
    "# 데이터 저장 리스트\n",
    "D_EC = []\n",
    "\n",
    "# 디렉토리 내 모든 파일 목록 가져오기\n",
    "files = os.listdir(base_path)\n",
    "\n",
    "# 파일 처리 루프\n",
    "for file_name in files:\n",
    "    # 파일명 패턴 확인 \n",
    "    if re.match(r'EC_M0[2-5]_\\d{6}_L\\.json', file_name):\n",
    "        file_path = os.path.join(base_path, file_name)\n",
    "\n",
    "        \n",
    "        # 파일 읽기 및 데이터 처리\n",
    "        with open(file_path, 'r', encoding='utf-8') as f:\n",
    "            data = json.load(f)\n",
    "            \n",
    "            bait = data.get('labeledDataInfo', {}).get('clickbaitClass')\n",
    "            content = data.get('sourceDataInfo', {}).get('newsContent')\n",
    "            \n",
    "            if bait is not None and content is not None:\n",
    "                \n",
    "                content = content.replace('\\\\\"', '\"').replace('\\n', '')\n",
    "                \n",
    "                D_EC.append({\n",
    "                    'filename': file_name,\n",
    "                    'newsContent': content,\n",
    "                    'clickbaitClass': bait\n",
    "                })\n",
    "\n",
    "\n",
    "# 파일 총 개수\n",
    "total_files = len(D_EC)\n",
    "print(f\"Total number of files processed: {total_files}\\n\")\n",
    "\n",
    "D_EC = pd.DataFrame(D_EC)\n",
    "D_EC"
   ]
  },
  {
   "cell_type": "code",
   "execution_count": null,
   "metadata": {},
   "outputs": [
    {
     "name": "stdout",
     "output_type": "stream",
     "text": [
      "Data successfully saved to Train_clickbait_EC.csv\n",
      "21400\n"
     ]
    }
   ],
   "source": [
    "C_EC = pd.concat([A_EC,D_EC],ignore_index=True )\n",
    "\n",
    "output_file = 'Train_clickbait_EC.csv'\n",
    "C_EC.to_csv(output_file, index=False)\n",
    "\n",
    "print(f\"Data successfully saved to {output_file}\")\n",
    "print(C_EC.shape[0])"
   ]
  },
  {
   "cell_type": "code",
   "execution_count": null,
   "metadata": {},
   "outputs": [
    {
     "name": "stdout",
     "output_type": "stream",
     "text": [
      "Total number of files processed: 20664\n",
      "\n"
     ]
    },
    {
     "data": {
      "text/html": [
       "<div>\n",
       "<style scoped>\n",
       "    .dataframe tbody tr th:only-of-type {\n",
       "        vertical-align: middle;\n",
       "    }\n",
       "\n",
       "    .dataframe tbody tr th {\n",
       "        vertical-align: top;\n",
       "    }\n",
       "\n",
       "    .dataframe thead th {\n",
       "        text-align: right;\n",
       "    }\n",
       "</style>\n",
       "<table border=\"1\" class=\"dataframe\">\n",
       "  <thead>\n",
       "    <tr style=\"text-align: right;\">\n",
       "      <th></th>\n",
       "      <th>filename</th>\n",
       "      <th>newsContent</th>\n",
       "      <th>clickbaitClass</th>\n",
       "    </tr>\n",
       "  </thead>\n",
       "  <tbody>\n",
       "    <tr>\n",
       "      <th>0</th>\n",
       "      <td>EC_M02_222739_L.json</td>\n",
       "      <td>종근당이 지난 10일 새로운 경영을 선언했다고 종근당이 11일 밝혔다.직원들이 행복...</td>\n",
       "      <td>1</td>\n",
       "    </tr>\n",
       "    <tr>\n",
       "      <th>1</th>\n",
       "      <td>EC_M02_222740_L.json</td>\n",
       "      <td>최태원(맨 왼쪽) SK그룹 회장과 경영진이 지난 21일 '제1회 이천포럼'에서 석학...</td>\n",
       "      <td>1</td>\n",
       "    </tr>\n",
       "    <tr>\n",
       "      <th>2</th>\n",
       "      <td>EC_M02_222741_L.json</td>\n",
       "      <td>금융권이 최근 한국임팩트금융을 설립해 본격 활동을 시작한 데 이어 소외계층 지원에 ...</td>\n",
       "      <td>1</td>\n",
       "    </tr>\n",
       "    <tr>\n",
       "      <th>3</th>\n",
       "      <td>EC_M02_222742_L.json</td>\n",
       "      <td>문 정부 출범 이후 재무적 이익과 함께 사회적 가치 창출을 고려하는 사회적 금융이 ...</td>\n",
       "      <td>1</td>\n",
       "    </tr>\n",
       "    <tr>\n",
       "      <th>4</th>\n",
       "      <td>EC_M02_222743_L.json</td>\n",
       "      <td>KB국민은행은 금융 기관으로서의 본업에 충실한 사회 공헌 활동을 해왔다.경제 약자 ...</td>\n",
       "      <td>1</td>\n",
       "    </tr>\n",
       "    <tr>\n",
       "      <th>...</th>\n",
       "      <td>...</td>\n",
       "      <td>...</td>\n",
       "      <td>...</td>\n",
       "    </tr>\n",
       "    <tr>\n",
       "      <th>20659</th>\n",
       "      <td>EC_M05_257136_L.json</td>\n",
       "      <td>쌍용자동차가 노조의 자구안 수용 결정 이후 무급 휴직 시행 방법 등을 놓고 협의에 ...</td>\n",
       "      <td>1</td>\n",
       "    </tr>\n",
       "    <tr>\n",
       "      <th>20660</th>\n",
       "      <td>EC_M05_257137_L.json</td>\n",
       "      <td>숙박 플랫폼 여기어때는 맛집 카테고리를 대폭 개편했다고 10일 밝혔다.이번 개편으로...</td>\n",
       "      <td>1</td>\n",
       "    </tr>\n",
       "    <tr>\n",
       "      <th>20661</th>\n",
       "      <td>EC_M05_257138_L.json</td>\n",
       "      <td>KB손해보험이 보험사 가운데 데이터 사업에 적극적으로 뛰어들며 선도 이미지를 구축하...</td>\n",
       "      <td>1</td>\n",
       "    </tr>\n",
       "    <tr>\n",
       "      <th>20662</th>\n",
       "      <td>EC_M05_257140_L.json</td>\n",
       "      <td>대상라이프사이언스의 ’뉴케어 액티브 골든밸런스’가 지난 5월 기준 누적 판매량 10...</td>\n",
       "      <td>1</td>\n",
       "    </tr>\n",
       "    <tr>\n",
       "      <th>20663</th>\n",
       "      <td>EC_M05_257142_L.json</td>\n",
       "      <td>CJ온스타일은 10일 친환경 도자기 소재로 내구성이 좋으면서 자연 친화적인 디자인 ...</td>\n",
       "      <td>1</td>\n",
       "    </tr>\n",
       "  </tbody>\n",
       "</table>\n",
       "<p>20664 rows × 3 columns</p>\n",
       "</div>"
      ],
      "text/plain": [
       "                   filename  \\\n",
       "0      EC_M02_222739_L.json   \n",
       "1      EC_M02_222740_L.json   \n",
       "2      EC_M02_222741_L.json   \n",
       "3      EC_M02_222742_L.json   \n",
       "4      EC_M02_222743_L.json   \n",
       "...                     ...   \n",
       "20659  EC_M05_257136_L.json   \n",
       "20660  EC_M05_257137_L.json   \n",
       "20661  EC_M05_257138_L.json   \n",
       "20662  EC_M05_257140_L.json   \n",
       "20663  EC_M05_257142_L.json   \n",
       "\n",
       "                                             newsContent  clickbaitClass  \n",
       "0      종근당이 지난 10일 새로운 경영을 선언했다고 종근당이 11일 밝혔다.직원들이 행복...               1  \n",
       "1      최태원(맨 왼쪽) SK그룹 회장과 경영진이 지난 21일 '제1회 이천포럼'에서 석학...               1  \n",
       "2      금융권이 최근 한국임팩트금융을 설립해 본격 활동을 시작한 데 이어 소외계층 지원에 ...               1  \n",
       "3      문 정부 출범 이후 재무적 이익과 함께 사회적 가치 창출을 고려하는 사회적 금융이 ...               1  \n",
       "4      KB국민은행은 금융 기관으로서의 본업에 충실한 사회 공헌 활동을 해왔다.경제 약자 ...               1  \n",
       "...                                                  ...             ...  \n",
       "20659  쌍용자동차가 노조의 자구안 수용 결정 이후 무급 휴직 시행 방법 등을 놓고 협의에 ...               1  \n",
       "20660  숙박 플랫폼 여기어때는 맛집 카테고리를 대폭 개편했다고 10일 밝혔다.이번 개편으로...               1  \n",
       "20661  KB손해보험이 보험사 가운데 데이터 사업에 적극적으로 뛰어들며 선도 이미지를 구축하...               1  \n",
       "20662  대상라이프사이언스의 ’뉴케어 액티브 골든밸런스’가 지난 5월 기준 누적 판매량 10...               1  \n",
       "20663  CJ온스타일은 10일 친환경 도자기 소재로 내구성이 좋으면서 자연 친화적인 디자인 ...               1  \n",
       "\n",
       "[20664 rows x 3 columns]"
      ]
     },
     "metadata": {},
     "output_type": "display_data"
    }
   ],
   "source": [
    "import json\n",
    "import os\n",
    "import re\n",
    "\n",
    "# 경로 설정\n",
    "base_path = 'C:/Users/sport/OneDrive/바탕 화면/개인프로젝트/가짜뉴스탐지/Train/TL_Part1_NonClickbait_Auto_EC'\n",
    "\n",
    "# 데이터 저장 리스트\n",
    "N_EC = []\n",
    "\n",
    "# 디렉토리 내 모든 파일 목록 가져오기\n",
    "files = os.listdir(base_path)\n",
    "\n",
    "# 파일 처리 루프\n",
    "for file_name in files:\n",
    "    # 파일명 패턴 확인 \n",
    "    if re.match(r'EC_M0[2-5]_\\d{6}_L\\.json', file_name):\n",
    "        file_path = os.path.join(base_path, file_name)\n",
    "\n",
    "        \n",
    "        # 파일 읽기 및 데이터 처리\n",
    "        with open(file_path, 'r', encoding='utf-8') as f:\n",
    "            data = json.load(f)\n",
    "            \n",
    "            bait = data.get('labeledDataInfo', {}).get('clickbaitClass')\n",
    "            content = data.get('sourceDataInfo', {}).get('newsContent')\n",
    "            \n",
    "            if bait is not None and content is not None:\n",
    "                \n",
    "                content = content.replace('\\\\\"', '\"').replace('\\n', '')\n",
    "                \n",
    "                N_EC.append({\n",
    "                    'filename': file_name,\n",
    "                    'newsContent': content,\n",
    "                    'clickbaitClass': bait\n",
    "                })\n",
    "\n",
    "\n",
    "# 파일 총 개수\n",
    "total_files = len(N_EC)\n",
    "print(f\"Total number of files processed: {total_files}\\n\")\n",
    "\n",
    "N_EC = pd.DataFrame(N_EC)\n",
    "N_EC"
   ]
  },
  {
   "cell_type": "code",
   "execution_count": null,
   "metadata": {},
   "outputs": [
    {
     "name": "stdout",
     "output_type": "stream",
     "text": [
      "Data successfully saved to Train_Nonclickbait_EC.csv\n",
      "20664\n"
     ]
    }
   ],
   "source": [
    "output_file = 'Train_Nonclickbait_EC.csv'\n",
    "N_EC.to_csv(output_file, index=False)\n",
    "\n",
    "print(f\"Data successfully saved to {output_file}\")\n",
    "print(N_EC.shape[0])"
   ]
  },
  {
   "cell_type": "code",
   "execution_count": null,
   "metadata": {},
   "outputs": [
    {
     "name": "stdout",
     "output_type": "stream",
     "text": [
      "Data successfully saved to Train_clickbait.csv\n",
      "127600\n"
     ]
    }
   ],
   "source": [
    "train_bait = pd.concat([C_EC,C_GB,C_IS,C_LC,C_PO,C_SO], ignore_index=True)\n",
    "\n",
    "output_file='Train_clickbait.csv'\n",
    "train_bait.to_csv(output_file, index=False)\n",
    "\n",
    "print(f\"Data successfully saved to {output_file}\")\n",
    "print(train_bait.shape[0])"
   ]
  },
  {
   "cell_type": "code",
   "execution_count": null,
   "metadata": {},
   "outputs": [
    {
     "name": "stdout",
     "output_type": "stream",
     "text": [
      "Data successfully saved to Train_Nonclickbait.csv\n",
      "127845\n"
     ]
    }
   ],
   "source": [
    "train_Nonbait = train_Nonbait = pd.concat([N_EC,N_GB,N_IS,N_LC,N_PO,N_SO], ignore_index=True)\n",
    "\n",
    "output_file='Train_Nonclickbait.csv'\n",
    "train_Nonbait.to_csv(output_file, index=False)\n",
    "\n",
    "print(f\"Data successfully saved to {output_file}\")\n",
    "print(train_Nonbait.shape[0])"
   ]
  },
  {
   "cell_type": "code",
   "execution_count": null,
   "metadata": {},
   "outputs": [],
   "source": [
    "valid_bait = pd.concat([C_EC,C_GB,C_IS,C_LC,C_PO,C_SO], ignore_index=True)\n",
    "\n",
    "output_file='Valid_clickbait.csv'\n",
    "valid_bait.to_csv(output_file, index=False)\n",
    "\n",
    "print(f\"Data successfully saved to {output_file}\")\n",
    "print(valid_bait.shape[0])"
   ]
  },
  {
   "cell_type": "code",
   "execution_count": null,
   "metadata": {},
   "outputs": [],
   "source": [
    "valid_Nonbait = valid_Nonbait = pd.concat([N_EC,N_GB,N_IS,N_LC,N_PO,N_SO], ignore_index=True)\n",
    "\n",
    "output_file='Valid_Nonclickbait.csv'\n",
    "valid_Nonbait.to_csv(output_file, index=False)\n",
    "\n",
    "print(f\"Data successfully saved to {output_file}\")\n",
    "print(valid_Nonbait.shape[0])"
   ]
  },
  {
   "cell_type": "code",
   "execution_count": null,
   "metadata": {},
   "outputs": [],
   "source": [
    "import pandas as pd\n",
    "\n",
    "train_bait=pd.read_csv('/content/drive/MyDrive/Colab Notebooks/Train_clickbait.csv')\n",
    "train_Nonbait=pd.read_csv('/content/drive/MyDrive/Colab Notebooks/Train_Nonclickbait.csv')\n",
    "train_bait = train_bait[['newsContent', 'clickbaitClass']]\n",
    "train_Nonbait = train_Nonbait[['newsContent', 'clickbaitClass']]\n",
    "\n",
    "train = pd.concat([train_bait, train_Nonbait], ignore_index=True)\n",
    "train"
   ]
  },
  {
   "cell_type": "code",
   "execution_count": null,
   "metadata": {},
   "outputs": [],
   "source": [
    "import pandas as pd\n",
    "\n",
    "valid_bait = pd.read_csv('/content/drive/MyDrive/Colab Notebooks/Valid_clickbait.csv')\n",
    "valid_Nonbait = pd.read_csv('/content/drive/MyDrive/Colab Notebooks/Valid_Nonclickbait.csv')\n",
    "valid_bait = valid_bait[['newsContent', 'clickbaitClass']]\n",
    "valid_Nonbait = valid_Nonbait[['newsContent', 'clickbaitClass']]\n",
    "\n",
    "valid = pd. concat([valid_bait, valid_Nonbait], ignore_index=True)\n",
    "valid"
   ]
  },
  {
   "cell_type": "code",
   "execution_count": null,
   "metadata": {},
   "outputs": [],
   "source": [
    "train.to_csv('train.csv', index=False)\n",
    "valid.to_csv('valid.csv', index=False)"
   ]
  },
  {
   "cell_type": "markdown",
   "metadata": {},
   "source": [
    "#### 2. 데이터 모델 학습"
   ]
  },
  {
   "cell_type": "markdown",
   "metadata": {},
   "source": [
    "1) 데이터는 총 10만개 사용\n",
    "2) test : valid = 8 : 2 비율 사용\n",
    "3) test = 8만개, valid = 2만개 뉴스 기사 사용 (낚시성 기사와 비낚시성 기사는 각각 1:1 비율로 지정)\n",
    "4) 학습시킬 모델은 총 3개 (Random Forest, LSTM, Logistic Regression)\n",
    "5) 모델 학습 후 각 모델 별 정확성과 F1 score 출력\n",
    "6) SNU 팩트첵크 ( 서울대 언론정보연구소) 에 속한 낚시성 뉴스와 비낚시성 뉴스 데이터를 이용해 새로운 데이터에 대한 예측력 검증 진행\n",
    "7) 각 모델의 정확성, 새로운 데이터에 대한 검증력 등 여러가지 비교 후 최종 모델 선택"
   ]
  },
  {
   "cell_type": "markdown",
   "metadata": {},
   "source": [
    "##### 1. Random Forest 모델 학습"
   ]
  },
  {
   "cell_type": "code",
   "execution_count": null,
   "metadata": {},
   "outputs": [],
   "source": [
    "# 데이터 로드\n",
    "import pandas as pd\n",
    "\n",
    "train = pd.read_csv('C:/Users/sport/OneDrive/바탕 화면/VSC/train.csv')\n",
    "valid = pd.read_csv('C:/Users/sport/OneDrive/바탕 화면/VSC/valid.csv')"
   ]
  },
  {
   "cell_type": "code",
   "execution_count": null,
   "metadata": {},
   "outputs": [
    {
     "name": "stdout",
     "output_type": "stream",
     "text": [
      "clickbaitClass\n",
      "0    40000\n",
      "1    40000\n",
      "Name: count, dtype: int64\n",
      "clickbaitClass\n",
      "0    10000\n",
      "1    10000\n",
      "Name: count, dtype: int64\n"
     ]
    }
   ],
   "source": [
    "import pandas as pd\n",
    "\n",
    "train_clickbait_0 = train[train['clickbaitClass'] == 0].sample(n=40000, random_state=42)\n",
    "train_clickbait_1 = train[train['clickbaitClass'] == 1].sample(n=40000, random_state=42)\n",
    "train_sampled = pd.concat([train_clickbait_0, train_clickbait_1], ignore_index=True)\n",
    "\n",
    "valid_clickbait_0 = valid[valid['clickbaitClass'] == 0].sample(n=10000, random_state=42)\n",
    "valid_clickbait_1 = valid[valid['clickbaitClass'] == 1].sample(n=10000, random_state=42)\n",
    "valid_sampled = pd.concat([valid_clickbait_0, valid_clickbait_1], ignore_index=True)\n",
    "\n",
    "# 데이터 확인\n",
    "print(train_sampled['clickbaitClass'].value_counts())\n",
    "print(valid_sampled['clickbaitClass'].value_counts())"
   ]
  },
  {
   "cell_type": "code",
   "execution_count": null,
   "metadata": {},
   "outputs": [],
   "source": [
    "from tensorflow.keras.preprocessing.text import Tokenizer\n",
    "from tensorflow.keras.preprocessing.sequence import pad_sequences\n",
    "\n",
    "# 데이터 추출\n",
    "X_train = train_sampled['newsContent'].tolist()\n",
    "y_train = train_sampled['clickbaitClass'].tolist()\n",
    "X_val = valid_sampled['newsContent'].tolist()\n",
    "y_val = valid_sampled['clickbaitClass'].tolist()"
   ]
  },
  {
   "cell_type": "code",
   "execution_count": null,
   "metadata": {},
   "outputs": [],
   "source": [
    "# TF-IDF 벡터화\n",
    "from sklearn.feature_extraction.text import TfidfVectorizer\n",
    "\n",
    "tfidf_vectorizer = TfidfVectorizer(max_features=5000)\n",
    "X_train_tfidf = tfidf_vectorizer.fit_transform(X_train)\n",
    "X_val_tfidf = tfidf_vectorizer.transform(X_val)"
   ]
  },
  {
   "cell_type": "code",
   "execution_count": null,
   "metadata": {},
   "outputs": [
    {
     "data": {
      "text/html": [
       "<style>#sk-container-id-1 {\n",
       "  /* Definition of color scheme common for light and dark mode */\n",
       "  --sklearn-color-text: black;\n",
       "  --sklearn-color-line: gray;\n",
       "  /* Definition of color scheme for unfitted estimators */\n",
       "  --sklearn-color-unfitted-level-0: #fff5e6;\n",
       "  --sklearn-color-unfitted-level-1: #f6e4d2;\n",
       "  --sklearn-color-unfitted-level-2: #ffe0b3;\n",
       "  --sklearn-color-unfitted-level-3: chocolate;\n",
       "  /* Definition of color scheme for fitted estimators */\n",
       "  --sklearn-color-fitted-level-0: #f0f8ff;\n",
       "  --sklearn-color-fitted-level-1: #d4ebff;\n",
       "  --sklearn-color-fitted-level-2: #b3dbfd;\n",
       "  --sklearn-color-fitted-level-3: cornflowerblue;\n",
       "\n",
       "  /* Specific color for light theme */\n",
       "  --sklearn-color-text-on-default-background: var(--sg-text-color, var(--theme-code-foreground, var(--jp-content-font-color1, black)));\n",
       "  --sklearn-color-background: var(--sg-background-color, var(--theme-background, var(--jp-layout-color0, white)));\n",
       "  --sklearn-color-border-box: var(--sg-text-color, var(--theme-code-foreground, var(--jp-content-font-color1, black)));\n",
       "  --sklearn-color-icon: #696969;\n",
       "\n",
       "  @media (prefers-color-scheme: dark) {\n",
       "    /* Redefinition of color scheme for dark theme */\n",
       "    --sklearn-color-text-on-default-background: var(--sg-text-color, var(--theme-code-foreground, var(--jp-content-font-color1, white)));\n",
       "    --sklearn-color-background: var(--sg-background-color, var(--theme-background, var(--jp-layout-color0, #111)));\n",
       "    --sklearn-color-border-box: var(--sg-text-color, var(--theme-code-foreground, var(--jp-content-font-color1, white)));\n",
       "    --sklearn-color-icon: #878787;\n",
       "  }\n",
       "}\n",
       "\n",
       "#sk-container-id-1 {\n",
       "  color: var(--sklearn-color-text);\n",
       "}\n",
       "\n",
       "#sk-container-id-1 pre {\n",
       "  padding: 0;\n",
       "}\n",
       "\n",
       "#sk-container-id-1 input.sk-hidden--visually {\n",
       "  border: 0;\n",
       "  clip: rect(1px 1px 1px 1px);\n",
       "  clip: rect(1px, 1px, 1px, 1px);\n",
       "  height: 1px;\n",
       "  margin: -1px;\n",
       "  overflow: hidden;\n",
       "  padding: 0;\n",
       "  position: absolute;\n",
       "  width: 1px;\n",
       "}\n",
       "\n",
       "#sk-container-id-1 div.sk-dashed-wrapped {\n",
       "  border: 1px dashed var(--sklearn-color-line);\n",
       "  margin: 0 0.4em 0.5em 0.4em;\n",
       "  box-sizing: border-box;\n",
       "  padding-bottom: 0.4em;\n",
       "  background-color: var(--sklearn-color-background);\n",
       "}\n",
       "\n",
       "#sk-container-id-1 div.sk-container {\n",
       "  /* jupyter's `normalize.less` sets `[hidden] { display: none; }`\n",
       "     but bootstrap.min.css set `[hidden] { display: none !important; }`\n",
       "     so we also need the `!important` here to be able to override the\n",
       "     default hidden behavior on the sphinx rendered scikit-learn.org.\n",
       "     See: https://github.com/scikit-learn/scikit-learn/issues/21755 */\n",
       "  display: inline-block !important;\n",
       "  position: relative;\n",
       "}\n",
       "\n",
       "#sk-container-id-1 div.sk-text-repr-fallback {\n",
       "  display: none;\n",
       "}\n",
       "\n",
       "div.sk-parallel-item,\n",
       "div.sk-serial,\n",
       "div.sk-item {\n",
       "  /* draw centered vertical line to link estimators */\n",
       "  background-image: linear-gradient(var(--sklearn-color-text-on-default-background), var(--sklearn-color-text-on-default-background));\n",
       "  background-size: 2px 100%;\n",
       "  background-repeat: no-repeat;\n",
       "  background-position: center center;\n",
       "}\n",
       "\n",
       "/* Parallel-specific style estimator block */\n",
       "\n",
       "#sk-container-id-1 div.sk-parallel-item::after {\n",
       "  content: \"\";\n",
       "  width: 100%;\n",
       "  border-bottom: 2px solid var(--sklearn-color-text-on-default-background);\n",
       "  flex-grow: 1;\n",
       "}\n",
       "\n",
       "#sk-container-id-1 div.sk-parallel {\n",
       "  display: flex;\n",
       "  align-items: stretch;\n",
       "  justify-content: center;\n",
       "  background-color: var(--sklearn-color-background);\n",
       "  position: relative;\n",
       "}\n",
       "\n",
       "#sk-container-id-1 div.sk-parallel-item {\n",
       "  display: flex;\n",
       "  flex-direction: column;\n",
       "}\n",
       "\n",
       "#sk-container-id-1 div.sk-parallel-item:first-child::after {\n",
       "  align-self: flex-end;\n",
       "  width: 50%;\n",
       "}\n",
       "\n",
       "#sk-container-id-1 div.sk-parallel-item:last-child::after {\n",
       "  align-self: flex-start;\n",
       "  width: 50%;\n",
       "}\n",
       "\n",
       "#sk-container-id-1 div.sk-parallel-item:only-child::after {\n",
       "  width: 0;\n",
       "}\n",
       "\n",
       "/* Serial-specific style estimator block */\n",
       "\n",
       "#sk-container-id-1 div.sk-serial {\n",
       "  display: flex;\n",
       "  flex-direction: column;\n",
       "  align-items: center;\n",
       "  background-color: var(--sklearn-color-background);\n",
       "  padding-right: 1em;\n",
       "  padding-left: 1em;\n",
       "}\n",
       "\n",
       "\n",
       "/* Toggleable style: style used for estimator/Pipeline/ColumnTransformer box that is\n",
       "clickable and can be expanded/collapsed.\n",
       "- Pipeline and ColumnTransformer use this feature and define the default style\n",
       "- Estimators will overwrite some part of the style using the `sk-estimator` class\n",
       "*/\n",
       "\n",
       "/* Pipeline and ColumnTransformer style (default) */\n",
       "\n",
       "#sk-container-id-1 div.sk-toggleable {\n",
       "  /* Default theme specific background. It is overwritten whether we have a\n",
       "  specific estimator or a Pipeline/ColumnTransformer */\n",
       "  background-color: var(--sklearn-color-background);\n",
       "}\n",
       "\n",
       "/* Toggleable label */\n",
       "#sk-container-id-1 label.sk-toggleable__label {\n",
       "  cursor: pointer;\n",
       "  display: block;\n",
       "  width: 100%;\n",
       "  margin-bottom: 0;\n",
       "  padding: 0.5em;\n",
       "  box-sizing: border-box;\n",
       "  text-align: center;\n",
       "}\n",
       "\n",
       "#sk-container-id-1 label.sk-toggleable__label-arrow:before {\n",
       "  /* Arrow on the left of the label */\n",
       "  content: \"▸\";\n",
       "  float: left;\n",
       "  margin-right: 0.25em;\n",
       "  color: var(--sklearn-color-icon);\n",
       "}\n",
       "\n",
       "#sk-container-id-1 label.sk-toggleable__label-arrow:hover:before {\n",
       "  color: var(--sklearn-color-text);\n",
       "}\n",
       "\n",
       "/* Toggleable content - dropdown */\n",
       "\n",
       "#sk-container-id-1 div.sk-toggleable__content {\n",
       "  max-height: 0;\n",
       "  max-width: 0;\n",
       "  overflow: hidden;\n",
       "  text-align: left;\n",
       "  /* unfitted */\n",
       "  background-color: var(--sklearn-color-unfitted-level-0);\n",
       "}\n",
       "\n",
       "#sk-container-id-1 div.sk-toggleable__content.fitted {\n",
       "  /* fitted */\n",
       "  background-color: var(--sklearn-color-fitted-level-0);\n",
       "}\n",
       "\n",
       "#sk-container-id-1 div.sk-toggleable__content pre {\n",
       "  margin: 0.2em;\n",
       "  border-radius: 0.25em;\n",
       "  color: var(--sklearn-color-text);\n",
       "  /* unfitted */\n",
       "  background-color: var(--sklearn-color-unfitted-level-0);\n",
       "}\n",
       "\n",
       "#sk-container-id-1 div.sk-toggleable__content.fitted pre {\n",
       "  /* unfitted */\n",
       "  background-color: var(--sklearn-color-fitted-level-0);\n",
       "}\n",
       "\n",
       "#sk-container-id-1 input.sk-toggleable__control:checked~div.sk-toggleable__content {\n",
       "  /* Expand drop-down */\n",
       "  max-height: 200px;\n",
       "  max-width: 100%;\n",
       "  overflow: auto;\n",
       "}\n",
       "\n",
       "#sk-container-id-1 input.sk-toggleable__control:checked~label.sk-toggleable__label-arrow:before {\n",
       "  content: \"▾\";\n",
       "}\n",
       "\n",
       "/* Pipeline/ColumnTransformer-specific style */\n",
       "\n",
       "#sk-container-id-1 div.sk-label input.sk-toggleable__control:checked~label.sk-toggleable__label {\n",
       "  color: var(--sklearn-color-text);\n",
       "  background-color: var(--sklearn-color-unfitted-level-2);\n",
       "}\n",
       "\n",
       "#sk-container-id-1 div.sk-label.fitted input.sk-toggleable__control:checked~label.sk-toggleable__label {\n",
       "  background-color: var(--sklearn-color-fitted-level-2);\n",
       "}\n",
       "\n",
       "/* Estimator-specific style */\n",
       "\n",
       "/* Colorize estimator box */\n",
       "#sk-container-id-1 div.sk-estimator input.sk-toggleable__control:checked~label.sk-toggleable__label {\n",
       "  /* unfitted */\n",
       "  background-color: var(--sklearn-color-unfitted-level-2);\n",
       "}\n",
       "\n",
       "#sk-container-id-1 div.sk-estimator.fitted input.sk-toggleable__control:checked~label.sk-toggleable__label {\n",
       "  /* fitted */\n",
       "  background-color: var(--sklearn-color-fitted-level-2);\n",
       "}\n",
       "\n",
       "#sk-container-id-1 div.sk-label label.sk-toggleable__label,\n",
       "#sk-container-id-1 div.sk-label label {\n",
       "  /* The background is the default theme color */\n",
       "  color: var(--sklearn-color-text-on-default-background);\n",
       "}\n",
       "\n",
       "/* On hover, darken the color of the background */\n",
       "#sk-container-id-1 div.sk-label:hover label.sk-toggleable__label {\n",
       "  color: var(--sklearn-color-text);\n",
       "  background-color: var(--sklearn-color-unfitted-level-2);\n",
       "}\n",
       "\n",
       "/* Label box, darken color on hover, fitted */\n",
       "#sk-container-id-1 div.sk-label.fitted:hover label.sk-toggleable__label.fitted {\n",
       "  color: var(--sklearn-color-text);\n",
       "  background-color: var(--sklearn-color-fitted-level-2);\n",
       "}\n",
       "\n",
       "/* Estimator label */\n",
       "\n",
       "#sk-container-id-1 div.sk-label label {\n",
       "  font-family: monospace;\n",
       "  font-weight: bold;\n",
       "  display: inline-block;\n",
       "  line-height: 1.2em;\n",
       "}\n",
       "\n",
       "#sk-container-id-1 div.sk-label-container {\n",
       "  text-align: center;\n",
       "}\n",
       "\n",
       "/* Estimator-specific */\n",
       "#sk-container-id-1 div.sk-estimator {\n",
       "  font-family: monospace;\n",
       "  border: 1px dotted var(--sklearn-color-border-box);\n",
       "  border-radius: 0.25em;\n",
       "  box-sizing: border-box;\n",
       "  margin-bottom: 0.5em;\n",
       "  /* unfitted */\n",
       "  background-color: var(--sklearn-color-unfitted-level-0);\n",
       "}\n",
       "\n",
       "#sk-container-id-1 div.sk-estimator.fitted {\n",
       "  /* fitted */\n",
       "  background-color: var(--sklearn-color-fitted-level-0);\n",
       "}\n",
       "\n",
       "/* on hover */\n",
       "#sk-container-id-1 div.sk-estimator:hover {\n",
       "  /* unfitted */\n",
       "  background-color: var(--sklearn-color-unfitted-level-2);\n",
       "}\n",
       "\n",
       "#sk-container-id-1 div.sk-estimator.fitted:hover {\n",
       "  /* fitted */\n",
       "  background-color: var(--sklearn-color-fitted-level-2);\n",
       "}\n",
       "\n",
       "/* Specification for estimator info (e.g. \"i\" and \"?\") */\n",
       "\n",
       "/* Common style for \"i\" and \"?\" */\n",
       "\n",
       ".sk-estimator-doc-link,\n",
       "a:link.sk-estimator-doc-link,\n",
       "a:visited.sk-estimator-doc-link {\n",
       "  float: right;\n",
       "  font-size: smaller;\n",
       "  line-height: 1em;\n",
       "  font-family: monospace;\n",
       "  background-color: var(--sklearn-color-background);\n",
       "  border-radius: 1em;\n",
       "  height: 1em;\n",
       "  width: 1em;\n",
       "  text-decoration: none !important;\n",
       "  margin-left: 1ex;\n",
       "  /* unfitted */\n",
       "  border: var(--sklearn-color-unfitted-level-1) 1pt solid;\n",
       "  color: var(--sklearn-color-unfitted-level-1);\n",
       "}\n",
       "\n",
       ".sk-estimator-doc-link.fitted,\n",
       "a:link.sk-estimator-doc-link.fitted,\n",
       "a:visited.sk-estimator-doc-link.fitted {\n",
       "  /* fitted */\n",
       "  border: var(--sklearn-color-fitted-level-1) 1pt solid;\n",
       "  color: var(--sklearn-color-fitted-level-1);\n",
       "}\n",
       "\n",
       "/* On hover */\n",
       "div.sk-estimator:hover .sk-estimator-doc-link:hover,\n",
       ".sk-estimator-doc-link:hover,\n",
       "div.sk-label-container:hover .sk-estimator-doc-link:hover,\n",
       ".sk-estimator-doc-link:hover {\n",
       "  /* unfitted */\n",
       "  background-color: var(--sklearn-color-unfitted-level-3);\n",
       "  color: var(--sklearn-color-background);\n",
       "  text-decoration: none;\n",
       "}\n",
       "\n",
       "div.sk-estimator.fitted:hover .sk-estimator-doc-link.fitted:hover,\n",
       ".sk-estimator-doc-link.fitted:hover,\n",
       "div.sk-label-container:hover .sk-estimator-doc-link.fitted:hover,\n",
       ".sk-estimator-doc-link.fitted:hover {\n",
       "  /* fitted */\n",
       "  background-color: var(--sklearn-color-fitted-level-3);\n",
       "  color: var(--sklearn-color-background);\n",
       "  text-decoration: none;\n",
       "}\n",
       "\n",
       "/* Span, style for the box shown on hovering the info icon */\n",
       ".sk-estimator-doc-link span {\n",
       "  display: none;\n",
       "  z-index: 9999;\n",
       "  position: relative;\n",
       "  font-weight: normal;\n",
       "  right: .2ex;\n",
       "  padding: .5ex;\n",
       "  margin: .5ex;\n",
       "  width: min-content;\n",
       "  min-width: 20ex;\n",
       "  max-width: 50ex;\n",
       "  color: var(--sklearn-color-text);\n",
       "  box-shadow: 2pt 2pt 4pt #999;\n",
       "  /* unfitted */\n",
       "  background: var(--sklearn-color-unfitted-level-0);\n",
       "  border: .5pt solid var(--sklearn-color-unfitted-level-3);\n",
       "}\n",
       "\n",
       ".sk-estimator-doc-link.fitted span {\n",
       "  /* fitted */\n",
       "  background: var(--sklearn-color-fitted-level-0);\n",
       "  border: var(--sklearn-color-fitted-level-3);\n",
       "}\n",
       "\n",
       ".sk-estimator-doc-link:hover span {\n",
       "  display: block;\n",
       "}\n",
       "\n",
       "/* \"?\"-specific style due to the `<a>` HTML tag */\n",
       "\n",
       "#sk-container-id-1 a.estimator_doc_link {\n",
       "  float: right;\n",
       "  font-size: 1rem;\n",
       "  line-height: 1em;\n",
       "  font-family: monospace;\n",
       "  background-color: var(--sklearn-color-background);\n",
       "  border-radius: 1rem;\n",
       "  height: 1rem;\n",
       "  width: 1rem;\n",
       "  text-decoration: none;\n",
       "  /* unfitted */\n",
       "  color: var(--sklearn-color-unfitted-level-1);\n",
       "  border: var(--sklearn-color-unfitted-level-1) 1pt solid;\n",
       "}\n",
       "\n",
       "#sk-container-id-1 a.estimator_doc_link.fitted {\n",
       "  /* fitted */\n",
       "  border: var(--sklearn-color-fitted-level-1) 1pt solid;\n",
       "  color: var(--sklearn-color-fitted-level-1);\n",
       "}\n",
       "\n",
       "/* On hover */\n",
       "#sk-container-id-1 a.estimator_doc_link:hover {\n",
       "  /* unfitted */\n",
       "  background-color: var(--sklearn-color-unfitted-level-3);\n",
       "  color: var(--sklearn-color-background);\n",
       "  text-decoration: none;\n",
       "}\n",
       "\n",
       "#sk-container-id-1 a.estimator_doc_link.fitted:hover {\n",
       "  /* fitted */\n",
       "  background-color: var(--sklearn-color-fitted-level-3);\n",
       "}\n",
       "</style><div id=\"sk-container-id-1\" class=\"sk-top-container\"><div class=\"sk-text-repr-fallback\"><pre>RandomForestClassifier(random_state=42)</pre><b>In a Jupyter environment, please rerun this cell to show the HTML representation or trust the notebook. <br />On GitHub, the HTML representation is unable to render, please try loading this page with nbviewer.org.</b></div><div class=\"sk-container\" hidden><div class=\"sk-item\"><div class=\"sk-estimator fitted sk-toggleable\"><input class=\"sk-toggleable__control sk-hidden--visually\" id=\"sk-estimator-id-1\" type=\"checkbox\" checked><label for=\"sk-estimator-id-1\" class=\"sk-toggleable__label fitted sk-toggleable__label-arrow fitted\">&nbsp;&nbsp;RandomForestClassifier<a class=\"sk-estimator-doc-link fitted\" rel=\"noreferrer\" target=\"_blank\" href=\"https://scikit-learn.org/1.5/modules/generated/sklearn.ensemble.RandomForestClassifier.html\">?<span>Documentation for RandomForestClassifier</span></a><span class=\"sk-estimator-doc-link fitted\">i<span>Fitted</span></span></label><div class=\"sk-toggleable__content fitted\"><pre>RandomForestClassifier(random_state=42)</pre></div> </div></div></div></div>"
      ],
      "text/plain": [
       "RandomForestClassifier(random_state=42)"
      ]
     },
     "metadata": {},
     "output_type": "display_data"
    }
   ],
   "source": [
    "# 랜덤포레스트 모델 생성 및 학습\n",
    "from sklearn.ensemble import RandomForestClassifier\n",
    "\n",
    "rf_model = RandomForestClassifier(n_estimators=100, random_state=42)\n",
    "rf_model.fit(X_train_tfidf, y_train)"
   ]
  },
  {
   "cell_type": "code",
   "execution_count": null,
   "metadata": {},
   "outputs": [
    {
     "name": "stdout",
     "output_type": "stream",
     "text": [
      "Validation Accuracy: 0.6653\n",
      "Classification Report:\n",
      "               precision    recall  f1-score   support\n",
      "\n",
      "           0       0.66      0.68      0.67     10000\n",
      "           1       0.67      0.65      0.66     10000\n",
      "\n",
      "    accuracy                           0.67     20000\n",
      "   macro avg       0.67      0.67      0.67     20000\n",
      "weighted avg       0.67      0.67      0.67     20000\n",
      "\n"
     ]
    }
   ],
   "source": [
    "from sklearn.metrics import accuracy_score, classification_report\n",
    "\n",
    "# 예측\n",
    "y_val_pred = rf_model.predict(X_val_tfidf)\n",
    "\n",
    "# 정확도 평가\n",
    "accuracy = accuracy_score(y_val, y_val_pred)\n",
    "print(f'Validation Accuracy: {accuracy:.4f}')\n",
    "\n",
    "# 분류 보고서\n",
    "report = classification_report(y_val, y_val_pred)\n",
    "print('Classification Report:\\n', report)\n"
   ]
  },
  {
   "cell_type": "code",
   "execution_count": null,
   "metadata": {},
   "outputs": [
    {
     "name": "stdout",
     "output_type": "stream",
     "text": [
      "Confusion Matrix:\n",
      "[[6845 3155]\n",
      " [3539 6461]]\n"
     ]
    }
   ],
   "source": [
    "from sklearn.metrics import confusion_matrix, classification_report\n",
    "import seaborn as sns\n",
    "import matplotlib.pyplot as plt\n",
    "\n",
    "# 혼동 행렬 계산\n",
    "conf_matrix = confusion_matrix(y_val, y_val_pred)\n",
    "\n",
    "# 혼동 행렬 출력\n",
    "print('Confusion Matrix:')\n",
    "print(conf_matrix)"
   ]
  },
  {
   "cell_type": "code",
   "execution_count": null,
   "metadata": {},
   "outputs": [
    {
     "name": "stdout",
     "output_type": "stream",
     "text": [
      "Article: 경찰은 불법촬영 신고 건수가 늘어나고 있다면서도 정확한 기준선이 없어 난감하다는 입장이다. 관련 업무를 담당하는 한 경찰 관계자는 의사에 반해 특정 부위 등을 반복해 촬영한 것이면 당연히 불법행위가 되지만 단순히 길거리를 촬영한 영상이면 현장에서 판단이 어려운 것은 사실이라며 사안에 따라 성범죄 전과 등 종합적으로 판단해 수사하고 있다고 설명했다. 법조계는 이같은 영상 촬영이 사전 동의 없이 이뤄지거나 특정 인물을 부각해 반복적으로 찍었다면 불법 소지가 있다고 경고한다. 지난 1월 대법원은 버스에서 레깅스 차림의 여성을 8초가량 촬영한 남성을 일상복을 입었다고 해 성적 욕망의 대상이 아니라고 단정할 수는 없다며 유죄로 판단한 바 있다. 의사에 반해 성적 대상화 우려가 있는 촬영은 불법이라는 의미다. 김기윤 변호사는 특정인물의 얼굴 역시 개인정보에 해당하기 때문에 이를 찍어 공개한 것은 개인정보보호법 위반에 해당할 소지가 있다며 특정 여성의 신체부위가 노출된 영상이라면 얼굴 노출 여부와 촬영 구도 등을 종합적으로 따져 성폭력범죄의 처벌 등에 관한 특례법 위반(카메라 등을 이용한 촬영)이 적용된다고 판단할 수 있다고 지적했다.\n",
      "Prediction (Clickbait=0, Not Clickbait=1): 1\n",
      "\n"
     ]
    }
   ],
   "source": [
    "from sklearn.feature_extraction.text import TfidfVectorizer\n",
    "\n",
    "# 새로운 기사 데이터\n",
    "new_articles = [\"경찰은 불법촬영 신고 건수가 늘어나고 있다면서도 정확한 기준선이 없어 난감하다는 입장이다. 관련 업무를 담당하는 한 경찰 관계자는 의사에 반해 특정 부위 등을 반복해 촬영한 것이면 당연히 불법행위가 되지만 단순히 길거리를 촬영한 영상이면 현장에서 판단이 어려운 것은 사실이라며 사안에 따라 성범죄 전과 등 종합적으로 판단해 수사하고 있다고 설명했다. 법조계는 이같은 영상 촬영이 사전 동의 없이 이뤄지거나 특정 인물을 부각해 반복적으로 찍었다면 불법 소지가 있다고 경고한다. 지난 1월 대법원은 버스에서 레깅스 차림의 여성을 8초가량 촬영한 남성을 일상복을 입었다고 해 성적 욕망의 대상이 아니라고 단정할 수는 없다며 유죄로 판단한 바 있다. 의사에 반해 성적 대상화 우려가 있는 촬영은 불법이라는 의미다. 김기윤 변호사는 특정인물의 얼굴 역시 개인정보에 해당하기 때문에 이를 찍어 공개한 것은 개인정보보호법 위반에 해당할 소지가 있다며 특정 여성의 신체부위가 노출된 영상이라면 얼굴 노출 여부와 촬영 구도 등을 종합적으로 따져 성폭력범죄의 처벌 등에 관한 특례법 위반(카메라 등을 이용한 촬영)이 적용된다고 판단할 수 있다고 지적했다.\"]\n",
    "\n",
    "# 새로운 기사 데이터 전처리\n",
    "new_articles_tfidf = tfidf_vectorizer.transform(new_articles)\n",
    "\n",
    "# 모델을 사용하여 예측\n",
    "predictions = rf_model.predict(new_articles_tfidf)\n",
    "\n",
    "# 예측 결과 확인\n",
    "for article, prediction in zip(new_articles, predictions):\n",
    "    print(f\"Article: {article}\\nPrediction (Clickbait=0, Not Clickbait=1): {prediction}\\n\")"
   ]
  },
  {
   "cell_type": "markdown",
   "metadata": {},
   "source": [
    "비낚시성 기사를 비낚시성 이라고 올바르게 분류함."
   ]
  },
  {
   "cell_type": "markdown",
   "metadata": {},
   "source": [
    "##### 2. LSTM 모델 학습"
   ]
  },
  {
   "cell_type": "code",
   "execution_count": null,
   "metadata": {},
   "outputs": [],
   "source": [
    "# 데이터 로드\n",
    "import pandas as pd\n",
    "\n",
    "train = pd.read_csv('C:/Users/sport/OneDrive/바탕 화면/VSC/train.csv')\n",
    "valid = pd.read_csv('C:/Users/sport/OneDrive/바탕 화면/VSC/valid.csv')"
   ]
  },
  {
   "cell_type": "code",
   "execution_count": null,
   "metadata": {},
   "outputs": [
    {
     "name": "stdout",
     "output_type": "stream",
     "text": [
      "clickbaitClass\n",
      "0    40000\n",
      "1    40000\n",
      "Name: count, dtype: int64\n",
      "clickbaitClass\n",
      "0    10000\n",
      "1    10000\n",
      "Name: count, dtype: int64\n"
     ]
    }
   ],
   "source": [
    "import pandas as pd\n",
    "\n",
    "# clickbait=0, clickbait=1 각각 4만개씩 샘플링\n",
    "train_clickbait_0 = train[train['clickbaitClass'] == 0].sample(n=40000, random_state=42)\n",
    "train_clickbait_1 = train[train['clickbaitClass'] == 1].sample(n=40000, random_state=42)\n",
    "train_sampled = pd.concat([train_clickbait_0, train_clickbait_1], ignore_index=True)\n",
    "\n",
    "# clickbait=0, clickbait=1 각각 1만개씩 샘플링\n",
    "valid_clickbait_0 = valid[valid['clickbaitClass'] == 0].sample(n=10000, random_state=42)\n",
    "valid_clickbait_1 = valid[valid['clickbaitClass'] == 1].sample(n=10000, random_state=42)\n",
    "valid_sampled = pd.concat([valid_clickbait_0, valid_clickbait_1], ignore_index=True)\n",
    "\n",
    "# 데이터 확인\n",
    "print(train_sampled['clickbaitClass'].value_counts())\n",
    "print(valid_sampled['clickbaitClass'].value_counts())"
   ]
  },
  {
   "cell_type": "code",
   "execution_count": null,
   "metadata": {},
   "outputs": [],
   "source": [
    "from tensorflow.keras.preprocessing.text import Tokenizer\n",
    "from tensorflow.keras.preprocessing.sequence import pad_sequences\n",
    "import numpy as np\n",
    "\n",
    "# 데이터 추출\n",
    "X_train = train_sampled['newsContent'].tolist()\n",
    "y_train = train_sampled['clickbaitClass'].tolist()\n",
    "X_val = valid_sampled['newsContent'].tolist()\n",
    "y_val = valid_sampled['clickbaitClass'].tolist()"
   ]
  },
  {
   "cell_type": "code",
   "execution_count": null,
   "metadata": {},
   "outputs": [],
   "source": [
    "# 텍스트 토크나이저 설정\n",
    "tokenizer = Tokenizer(num_words=5000)  # 상위 5000개의 단어만 사용\n",
    "tokenizer.fit_on_texts(X_train)"
   ]
  },
  {
   "cell_type": "code",
   "execution_count": null,
   "metadata": {},
   "outputs": [],
   "source": [
    "# 텍스트를 시퀀스로 변환\n",
    "X_train_seq = tokenizer.texts_to_sequences(X_train)\n",
    "X_val_seq = tokenizer.texts_to_sequences(X_val)"
   ]
  },
  {
   "cell_type": "code",
   "execution_count": null,
   "metadata": {},
   "outputs": [],
   "source": [
    "# 시퀀스 길이 찾기\n",
    "max_len_train = max(len(seq) for seq in X_train_seq)\n",
    "max_len_val = max(len(seq) for seq in X_val_seq)\n",
    "max_len = max(max_len_train, max_len_val)"
   ]
  },
  {
   "cell_type": "code",
   "execution_count": null,
   "metadata": {},
   "outputs": [],
   "source": [
    "# 시퀀스 길이를 동일하게 패딩\n",
    "X_train_pad = pad_sequences(X_train_seq, maxlen=max_len)\n",
    "X_val_pad = pad_sequences(X_val_seq, maxlen=max_len)"
   ]
  },
  {
   "cell_type": "code",
   "execution_count": null,
   "metadata": {},
   "outputs": [],
   "source": [
    "# 레이블을 numpy 배열로 변환\n",
    "y_train = np.array(y_train)\n",
    "y_val = np.array(y_val)"
   ]
  },
  {
   "cell_type": "code",
   "execution_count": null,
   "metadata": {},
   "outputs": [
    {
     "data": {
      "text/html": [
       "<pre style=\"white-space:pre;overflow-x:auto;line-height:normal;font-family:Menlo,'DejaVu Sans Mono',consolas,'Courier New',monospace\"><span style=\"font-weight: bold\">Model: \"sequential\"</span>\n",
       "</pre>\n"
      ],
      "text/plain": [
       "\u001b[1mModel: \"sequential\"\u001b[0m\n"
      ]
     },
     "metadata": {},
     "output_type": "display_data"
    },
    {
     "data": {
      "text/html": [
       "<pre style=\"white-space:pre;overflow-x:auto;line-height:normal;font-family:Menlo,'DejaVu Sans Mono',consolas,'Courier New',monospace\">┏━━━━━━━━━━━━━━━━━━━━━━━━━━━━━━━━━┳━━━━━━━━━━━━━━━━━━━━━━━━┳━━━━━━━━━━━━━━━┓\n",
       "┃<span style=\"font-weight: bold\"> Layer (type)                    </span>┃<span style=\"font-weight: bold\"> Output Shape           </span>┃<span style=\"font-weight: bold\">       Param # </span>┃\n",
       "┡━━━━━━━━━━━━━━━━━━━━━━━━━━━━━━━━━╇━━━━━━━━━━━━━━━━━━━━━━━━╇━━━━━━━━━━━━━━━┩\n",
       "│ embedding (<span style=\"color: #0087ff; text-decoration-color: #0087ff\">Embedding</span>)           │ ?                      │   <span style=\"color: #00af00; text-decoration-color: #00af00\">0</span> (unbuilt) │\n",
       "├─────────────────────────────────┼────────────────────────┼───────────────┤\n",
       "│ lstm (<span style=\"color: #0087ff; text-decoration-color: #0087ff\">LSTM</span>)                     │ ?                      │   <span style=\"color: #00af00; text-decoration-color: #00af00\">0</span> (unbuilt) │\n",
       "├─────────────────────────────────┼────────────────────────┼───────────────┤\n",
       "│ dropout (<span style=\"color: #0087ff; text-decoration-color: #0087ff\">Dropout</span>)               │ ?                      │   <span style=\"color: #00af00; text-decoration-color: #00af00\">0</span> (unbuilt) │\n",
       "├─────────────────────────────────┼────────────────────────┼───────────────┤\n",
       "│ lstm_1 (<span style=\"color: #0087ff; text-decoration-color: #0087ff\">LSTM</span>)                   │ ?                      │   <span style=\"color: #00af00; text-decoration-color: #00af00\">0</span> (unbuilt) │\n",
       "├─────────────────────────────────┼────────────────────────┼───────────────┤\n",
       "│ dropout_1 (<span style=\"color: #0087ff; text-decoration-color: #0087ff\">Dropout</span>)             │ ?                      │   <span style=\"color: #00af00; text-decoration-color: #00af00\">0</span> (unbuilt) │\n",
       "├─────────────────────────────────┼────────────────────────┼───────────────┤\n",
       "│ dense (<span style=\"color: #0087ff; text-decoration-color: #0087ff\">Dense</span>)                   │ ?                      │   <span style=\"color: #00af00; text-decoration-color: #00af00\">0</span> (unbuilt) │\n",
       "└─────────────────────────────────┴────────────────────────┴───────────────┘\n",
       "</pre>\n"
      ],
      "text/plain": [
       "┏━━━━━━━━━━━━━━━━━━━━━━━━━━━━━━━━━┳━━━━━━━━━━━━━━━━━━━━━━━━┳━━━━━━━━━━━━━━━┓\n",
       "┃\u001b[1m \u001b[0m\u001b[1mLayer (type)                   \u001b[0m\u001b[1m \u001b[0m┃\u001b[1m \u001b[0m\u001b[1mOutput Shape          \u001b[0m\u001b[1m \u001b[0m┃\u001b[1m \u001b[0m\u001b[1m      Param #\u001b[0m\u001b[1m \u001b[0m┃\n",
       "┡━━━━━━━━━━━━━━━━━━━━━━━━━━━━━━━━━╇━━━━━━━━━━━━━━━━━━━━━━━━╇━━━━━━━━━━━━━━━┩\n",
       "│ embedding (\u001b[38;5;33mEmbedding\u001b[0m)           │ ?                      │   \u001b[38;5;34m0\u001b[0m (unbuilt) │\n",
       "├─────────────────────────────────┼────────────────────────┼───────────────┤\n",
       "│ lstm (\u001b[38;5;33mLSTM\u001b[0m)                     │ ?                      │   \u001b[38;5;34m0\u001b[0m (unbuilt) │\n",
       "├─────────────────────────────────┼────────────────────────┼───────────────┤\n",
       "│ dropout (\u001b[38;5;33mDropout\u001b[0m)               │ ?                      │   \u001b[38;5;34m0\u001b[0m (unbuilt) │\n",
       "├─────────────────────────────────┼────────────────────────┼───────────────┤\n",
       "│ lstm_1 (\u001b[38;5;33mLSTM\u001b[0m)                   │ ?                      │   \u001b[38;5;34m0\u001b[0m (unbuilt) │\n",
       "├─────────────────────────────────┼────────────────────────┼───────────────┤\n",
       "│ dropout_1 (\u001b[38;5;33mDropout\u001b[0m)             │ ?                      │   \u001b[38;5;34m0\u001b[0m (unbuilt) │\n",
       "├─────────────────────────────────┼────────────────────────┼───────────────┤\n",
       "│ dense (\u001b[38;5;33mDense\u001b[0m)                   │ ?                      │   \u001b[38;5;34m0\u001b[0m (unbuilt) │\n",
       "└─────────────────────────────────┴────────────────────────┴───────────────┘\n"
      ]
     },
     "metadata": {},
     "output_type": "display_data"
    },
    {
     "data": {
      "text/html": [
       "<pre style=\"white-space:pre;overflow-x:auto;line-height:normal;font-family:Menlo,'DejaVu Sans Mono',consolas,'Courier New',monospace\"><span style=\"font-weight: bold\"> Total params: </span><span style=\"color: #00af00; text-decoration-color: #00af00\">0</span> (0.00 B)\n",
       "</pre>\n"
      ],
      "text/plain": [
       "\u001b[1m Total params: \u001b[0m\u001b[38;5;34m0\u001b[0m (0.00 B)\n"
      ]
     },
     "metadata": {},
     "output_type": "display_data"
    },
    {
     "data": {
      "text/html": [
       "<pre style=\"white-space:pre;overflow-x:auto;line-height:normal;font-family:Menlo,'DejaVu Sans Mono',consolas,'Courier New',monospace\"><span style=\"font-weight: bold\"> Trainable params: </span><span style=\"color: #00af00; text-decoration-color: #00af00\">0</span> (0.00 B)\n",
       "</pre>\n"
      ],
      "text/plain": [
       "\u001b[1m Trainable params: \u001b[0m\u001b[38;5;34m0\u001b[0m (0.00 B)\n"
      ]
     },
     "metadata": {},
     "output_type": "display_data"
    },
    {
     "data": {
      "text/html": [
       "<pre style=\"white-space:pre;overflow-x:auto;line-height:normal;font-family:Menlo,'DejaVu Sans Mono',consolas,'Courier New',monospace\"><span style=\"font-weight: bold\"> Non-trainable params: </span><span style=\"color: #00af00; text-decoration-color: #00af00\">0</span> (0.00 B)\n",
       "</pre>\n"
      ],
      "text/plain": [
       "\u001b[1m Non-trainable params: \u001b[0m\u001b[38;5;34m0\u001b[0m (0.00 B)\n"
      ]
     },
     "metadata": {},
     "output_type": "display_data"
    },
    {
     "name": "stdout",
     "output_type": "stream",
     "text": [
      "Epoch 1/10\n",
      "\u001b[1m1250/1250\u001b[0m \u001b[32m━━━━━━━━━━━━━━━━━━━━\u001b[0m\u001b[37m\u001b[0m \u001b[1m1324s\u001b[0m 1s/step - accuracy: 0.5625 - loss: 0.6797 - val_accuracy: 0.6175 - val_loss: 0.6576\n",
      "Epoch 2/10\n",
      "\u001b[1m1250/1250\u001b[0m \u001b[32m━━━━━━━━━━━━━━━━━━━━\u001b[0m\u001b[37m\u001b[0m \u001b[1m1231s\u001b[0m 985ms/step - accuracy: 0.6372 - loss: 0.6418 - val_accuracy: 0.5662 - val_loss: 0.6824\n",
      "Epoch 3/10\n",
      "\u001b[1m1250/1250\u001b[0m \u001b[32m━━━━━━━━━━━━━━━━━━━━\u001b[0m\u001b[37m\u001b[0m \u001b[1m1351s\u001b[0m 1s/step - accuracy: 0.6459 - loss: 0.6292 - val_accuracy: 0.6308 - val_loss: 0.6403\n",
      "Epoch 4/10\n",
      "\u001b[1m1250/1250\u001b[0m \u001b[32m━━━━━━━━━━━━━━━━━━━━\u001b[0m\u001b[37m\u001b[0m \u001b[1m1332s\u001b[0m 1s/step - accuracy: 0.7056 - loss: 0.5750 - val_accuracy: 0.6726 - val_loss: 0.6126\n",
      "Epoch 5/10\n",
      "\u001b[1m1250/1250\u001b[0m \u001b[32m━━━━━━━━━━━━━━━━━━━━\u001b[0m\u001b[37m\u001b[0m \u001b[1m1843s\u001b[0m 1s/step - accuracy: 0.7429 - loss: 0.5276 - val_accuracy: 0.6773 - val_loss: 0.6129\n",
      "Epoch 6/10\n",
      "\u001b[1m1250/1250\u001b[0m \u001b[32m━━━━━━━━━━━━━━━━━━━━\u001b[0m\u001b[37m\u001b[0m \u001b[1m1486s\u001b[0m 1s/step - accuracy: 0.7746 - loss: 0.4850 - val_accuracy: 0.6723 - val_loss: 0.6366\n"
     ]
    }
   ],
   "source": [
    "from tensorflow.keras.models import Sequential\n",
    "from tensorflow.keras.layers import Embedding, LSTM, Dense, Dropout\n",
    "from tensorflow.keras.callbacks import EarlyStopping\n",
    "from tensorflow.keras.regularizers import l2\n",
    "from tensorflow.keras.optimizers import Adam\n",
    "\n",
    "# LSTM 모델 구축\n",
    "model = Sequential()\n",
    "model.add(Embedding(input_dim=5000, output_dim=128 ))\n",
    "model.add(LSTM(64, return_sequences=True))  \n",
    "model.add(Dropout(0.4))  # 드롭아웃 확률 증가\n",
    "model.add(LSTM(32))  \n",
    "model.add(Dropout(0.4))  # 드롭아웃 확률 증가\n",
    "model.add(Dense(1, activation='sigmoid'))\n",
    "\n",
    "model.compile(loss='binary_crossentropy', optimizer='adam', metrics=['accuracy'])\n",
    "model.summary()\n",
    "\n",
    "# EarlyStopping 콜백 설정\n",
    "early_stopping = EarlyStopping(monitor='val_loss', patience=2, restore_best_weights=True)\n",
    "\n",
    "# 모델 학습\n",
    "history = model.fit(X_train_pad, y_train, epochs=10, batch_size=64, validation_data=(X_val_pad, y_val), callbacks=[early_stopping])\n"
   ]
  },
  {
   "cell_type": "markdown",
   "metadata": {},
   "source": [
    "##### 모델 성능 조정\n",
    "1. LSTM 학습시, LSTM 크기를 (128,64), (64,32), (32,16) 경우로 나누어 학습시켜 봄.\n",
    "2. 드롭아웃을 0.2 에서 0.3, 0.4 로 증가시켜 봄.\n",
    "3. early stopping patience 를 3에서 2로 줄여서 학습시켜 봄."
   ]
  },
  {
   "cell_type": "code",
   "execution_count": null,
   "metadata": {},
   "outputs": [
    {
     "name": "stdout",
     "output_type": "stream",
     "text": [
      "\u001b[1m625/625\u001b[0m \u001b[32m━━━━━━━━━━━━━━━━━━━━\u001b[0m\u001b[37m\u001b[0m \u001b[1m131s\u001b[0m 210ms/step - accuracy: 0.6853 - loss: 0.6437\n",
      "Validation Loss: 0.6126123666763306\n",
      "Validation Accuracy: 0.6725999712944031\n"
     ]
    }
   ],
   "source": [
    "# 모델 평가\n",
    "loss, accuracy = model.evaluate(X_val_pad, y_val)\n",
    "print(f'Validation Loss: {loss}')\n",
    "print(f'Validation Accuracy: {accuracy}')"
   ]
  },
  {
   "cell_type": "code",
   "execution_count": null,
   "metadata": {},
   "outputs": [
    {
     "name": "stdout",
     "output_type": "stream",
     "text": [
      "\n",
      "Classification Report:\n",
      "               precision    recall  f1-score   support\n",
      "\n",
      "Non-Clickbait       0.67      0.69      0.68     10000\n",
      "    Clickbait       0.68      0.65      0.67     10000\n",
      "\n",
      "     accuracy                           0.67     20000\n",
      "    macro avg       0.67      0.67      0.67     20000\n",
      " weighted avg       0.67      0.67      0.67     20000\n",
      "\n"
     ]
    }
   ],
   "source": [
    "from sklearn.metrics import classification_report\n",
    "\n",
    "# 정확도, F1 스코어, 재현율 등의 지표 출력\n",
    "print(\"\\nClassification Report:\")\n",
    "print(classification_report(y_val, y_val_pred_class, target_names=['Non-Clickbait', 'Clickbait']))"
   ]
  },
  {
   "cell_type": "code",
   "execution_count": null,
   "metadata": {},
   "outputs": [
    {
     "name": "stdout",
     "output_type": "stream",
     "text": [
      "\u001b[1m625/625\u001b[0m \u001b[32m━━━━━━━━━━━━━━━━━━━━\u001b[0m\u001b[37m\u001b[0m \u001b[1m187s\u001b[0m 265ms/step\n"
     ]
    },
    {
     "data": {
      "image/png": "[encoded data removed]",
      "text/plain": [
       "<Figure size 640x480 with 2 Axes>"
      ]
     },
     "metadata": {},
     "output_type": "display_data"
    }
   ],
   "source": [
    "from sklearn.metrics import confusion_matrix, ConfusionMatrixDisplay\n",
    "import matplotlib.pyplot as plt\n",
    "\n",
    "# Validation 데이터에 대한 예측\n",
    "y_val_pred = model.predict(X_val_pad)\n",
    "y_val_pred_class = (y_val_pred > 0.5).astype(int).flatten()  # 0.5 이상이면 1, 미만이면 0\n",
    "\n",
    "# 혼동 행렬 계산\n",
    "cm = confusion_matrix(y_val, y_val_pred_class)\n",
    "\n",
    "# 혼동 행렬 시각화\n",
    "disp = ConfusionMatrixDisplay(confusion_matrix=cm, display_labels=['Non-Clickbait', 'Clickbait'])\n",
    "disp.plot(cmap=plt.cm.Blues)\n",
    "plt.title('Confusion Matrix')\n",
    "plt.show()"
   ]
  },
  {
   "cell_type": "code",
   "execution_count": null,
   "metadata": {},
   "outputs": [
    {
     "name": "stdout",
     "output_type": "stream",
     "text": [
      "\u001b[1m1/1\u001b[0m \u001b[32m━━━━━━━━━━━━━━━━━━━━\u001b[0m\u001b[37m\u001b[0m \u001b[1m0s\u001b[0m 137ms/step\n",
      "Prediction: 0.48035532236099243\n"
     ]
    }
   ],
   "source": [
    "# 새로운 기사 예측\n",
    "new_article = [\"내년도 최저임금 심의에서 업종별 차등적용 도입 방안이 가시화되고 있다. 최저임금 업종별 차등적용에 대한 정부의 의지가 강한데다, 최근 새롭게 구성된 공익위원들도 보수색이 짙어 지난해와는 전혀 다른 양상이다. 내년에 차등적용이 현실화될 경우 지난 1989년 이후 36년만에 도입된다. 특히 최저임금의 업종별 차등적용은 윤석열 대통령의 대선 공약이다. 지난달 열린 민생토론회에서도 외국인 유학생과 이민자의 가사·육아 취업 필요성을 언급하며, 최저임금 제한 없이 일할 수 있어야 유연한 노동시장이 만들어질 수 있다고 강조했다.\"]\n",
    "new_article_seq = tokenizer.texts_to_sequences(new_article)\n",
    "new_article_pad = pad_sequences(new_article_seq, maxlen=max_len)\n",
    "prediction = model.predict(new_article_pad)\n",
    "print(f'Prediction: {prediction[0][0]}')  # 0.5 이상이면 unbait, 이하이면 bait"
   ]
  },
  {
   "cell_type": "markdown",
   "metadata": {},
   "source": [
    "가짜 뉴스를 낚시성 기사로 잘 분류함"
   ]
  },
  {
   "cell_type": "code",
   "execution_count": null,
   "metadata": {},
   "outputs": [
    {
     "name": "stdout",
     "output_type": "stream",
     "text": [
      "\u001b[1m1/1\u001b[0m \u001b[32m━━━━━━━━━━━━━━━━━━━━\u001b[0m\u001b[37m\u001b[0m \u001b[1m0s\u001b[0m 122ms/step\n",
      "Prediction: 0.7689980268478394\n"
     ]
    }
   ],
   "source": [
    "# 새로운 기사 예측\n",
    "new_article = [\"경찰은 불법촬영 신고 건수가 늘어나고 있다면서도 정확한 기준선이 없어 난감하다는 입장이다. 관련 업무를 담당하는 한 경찰 관계자는 의사에 반해 특정 부위 등을 반복해 촬영한 것이면 당연히 불법행위가 되지만 단순히 길거리를 촬영한 영상이면 현장에서 판단이 어려운 것은 사실이라며 사안에 따라 성범죄 전과 등 종합적으로 판단해 수사하고 있다고 설명했다. 법조계는 이같은 영상 촬영이 사전 동의 없이 이뤄지거나 특정 인물을 부각해 반복적으로 찍었다면 불법 소지가 있다고 경고한다. 지난 1월 대법원은 버스에서 레깅스 차림의 여성을 8초가량 촬영한 남성을 일상복을 입었다고 해 성적 욕망의 대상이 아니라고 단정할 수는 없다며 유죄로 판단한 바 있다. 의사에 반해 성적 대상화 우려가 있는 촬영은 불법이라는 의미다. 김기윤 변호사는 특정인물의 얼굴 역시 개인정보에 해당하기 때문에 이를 찍어 공개한 것은 개인정보보호법 위반에 해당할 소지가 있다며 특정 여성의 신체부위가 노출된 영상이라면 얼굴 노출 여부와 촬영 구도 등을 종합적으로 따져 성폭력범죄의 처벌 등에 관한 특례법 위반(카메라 등을 이용한 촬영)이 적용된다고 판단할 수 있다고 지적했다. \"]\n",
    "new_article_seq = tokenizer.texts_to_sequences(new_article)\n",
    "new_article_pad = pad_sequences(new_article_seq, maxlen=max_len)\n",
    "prediction = model.predict(new_article_pad)\n",
    "print(f'Prediction: {prediction[0][0]}')  # 0.5 이상이면 unbait, 이하이면 bait"
   ]
  },
  {
   "cell_type": "markdown",
   "metadata": {},
   "source": [
    "비낚시성 뉴스를 높은 확률로 사실이라고 분류함"
   ]
  },
  {
   "cell_type": "markdown",
   "metadata": {},
   "source": [
    "##### 3. Logistic Regression 모델 학습"
   ]
  },
  {
   "cell_type": "code",
   "execution_count": null,
   "metadata": {},
   "outputs": [],
   "source": [
    "# 데이터 로드\n",
    "import pandas as pd\n",
    "\n",
    "train = pd.read_csv('C:/Users/sport/OneDrive/바탕 화면/VSC/train.csv')\n",
    "valid = pd.read_csv('C:/Users/sport/OneDrive/바탕 화면/VSC/valid.csv')"
   ]
  },
  {
   "cell_type": "code",
   "execution_count": null,
   "metadata": {},
   "outputs": [
    {
     "name": "stdout",
     "output_type": "stream",
     "text": [
      "clickbaitClass\n",
      "0    40000\n",
      "1    40000\n",
      "Name: count, dtype: int64\n",
      "clickbaitClass\n",
      "0    10000\n",
      "1    10000\n",
      "Name: count, dtype: int64\n"
     ]
    }
   ],
   "source": [
    "import pandas as pd\n",
    "\n",
    "train_clickbait_0 = train[train['clickbaitClass'] == 0].sample(n=40000, random_state=42)\n",
    "train_clickbait_1 = train[train['clickbaitClass'] == 1].sample(n=40000, random_state=42)\n",
    "train_sampled = pd.concat([train_clickbait_0, train_clickbait_1], ignore_index=True)\n",
    "\n",
    "valid_clickbait_0 = valid[valid['clickbaitClass'] == 0].sample(n=10000, random_state=42)\n",
    "valid_clickbait_1 = valid[valid['clickbaitClass'] == 1].sample(n=10000, random_state=42)\n",
    "valid_sampled = pd.concat([valid_clickbait_0, valid_clickbait_1], ignore_index=True)\n",
    "\n",
    "# 데이터 확인\n",
    "print(train_sampled['clickbaitClass'].value_counts())\n",
    "print(valid_sampled['clickbaitClass'].value_counts())"
   ]
  },
  {
   "cell_type": "code",
   "execution_count": null,
   "metadata": {},
   "outputs": [],
   "source": [
    "from tensorflow.keras.preprocessing.text import Tokenizer\n",
    "from tensorflow.keras.preprocessing.sequence import pad_sequences\n",
    "\n",
    "# 데이터 추출\n",
    "X_train = train_sampled['newsContent'].tolist()\n",
    "y_train = train_sampled['clickbaitClass'].tolist()\n",
    "X_val = valid_sampled['newsContent'].tolist()\n",
    "y_val = valid_sampled['clickbaitClass'].tolist()"
   ]
  },
  {
   "cell_type": "code",
   "execution_count": null,
   "metadata": {},
   "outputs": [],
   "source": [
    "# TF-IDF 벡터화\n",
    "from sklearn.feature_extraction.text import TfidfVectorizer\n",
    "\n",
    "# 텍스트 데이터를 TF-IDF 벡터화\n",
    "vectorizer = TfidfVectorizer(max_features=5000)\n",
    "X_train_tfidf = vectorizer.fit_transform(X_train)\n",
    "X_val_tfidf = vectorizer.transform(X_val)\n"
   ]
  },
  {
   "cell_type": "code",
   "execution_count": null,
   "metadata": {},
   "outputs": [],
   "source": [
    "from sklearn.linear_model import LogisticRegression\n",
    "\n",
    "# 로지스틱 회귀 모델 학습\n",
    "lr_model = LogisticRegression()\n",
    "lr_model.fit(X_train_tfidf, y_train)\n",
    "\n",
    "# 검증 데이터에 대한 예측\n",
    "y_val_pred = lr_model.predict(X_val_tfidf)"
   ]
  },
  {
   "cell_type": "code",
   "execution_count": null,
   "metadata": {},
   "outputs": [
    {
     "name": "stdout",
     "output_type": "stream",
     "text": [
      "\n",
      "Classification Report:\n",
      "               precision    recall  f1-score   support\n",
      "\n",
      "Non-Clickbait       0.64      0.62      0.63     10000\n",
      "    Clickbait       0.63      0.66      0.65     10000\n",
      "\n",
      "     accuracy                           0.64     20000\n",
      "    macro avg       0.64      0.64      0.64     20000\n",
      " weighted avg       0.64      0.64      0.64     20000\n",
      "\n"
     ]
    }
   ],
   "source": [
    "from sklearn.metrics import confusion_matrix, classification_report\n",
    "import numpy as np\n",
    "\n",
    "# 혼동 행렬 계산\n",
    "cm = confusion_matrix(y_val, y_val_pred)\n",
    "cm\n",
    "\n",
    "# 혼동 행렬을 비율로 변환\n",
    "cm_normalized = cm.astype('float') / cm.sum(axis=1)[:, np.newaxis]\n",
    "cm_normalized\n",
    "\n",
    "# 정확도, F1 스코어, 재현율 등의 지표 출력\n",
    "print(\"\\nClassification Report:\")\n",
    "print(classification_report(y_val, y_val_pred, target_names=['Non-Clickbait', 'Clickbait']))"
   ]
  },
  {
   "cell_type": "code",
   "execution_count": null,
   "metadata": {},
   "outputs": [
    {
     "name": "stdout",
     "output_type": "stream",
     "text": [
      "Prediction for the new article: Nonbait\n"
     ]
    }
   ],
   "source": [
    "# 새로운 기사 예측 함수\n",
    "def predict_article_lr(article):\n",
    "    article_tfidf = vectorizer.transform([article])\n",
    "    prediction = lr_model.predict(article_tfidf)[0]\n",
    "    return \"bait\" if prediction == 0 else \"Nonbait\"\n",
    "\n",
    "# 새로운 기사 예측\n",
    "new_article = \"경찰은 불법촬영 신고 건수가 늘어나고 있다면서도 정확한 기준선이 없어 난감하다는 입장이다. 관련 업무를 담당하는 한 경찰 관계자는 의사에 반해 특정 부위 등을 반복해 촬영한 것이면 당연히 불법행위가 되지만 단순히 길거리를 촬영한 영상이면 현장에서 판단이 어려운 것은 사실이라며 사안에 따라 성범죄 전과 등 종합적으로 판단해 수사하고 있다고 설명했다. 법조계는 이같은 영상 촬영이 사전 동의 없이 이뤄지거나 특정 인물을 부각해 반복적으로 찍었다면 불법 소지가 있다고 경고한다. 지난 1월 대법원은 버스에서 레깅스 차림의 여성을 8초가량 촬영한 남성을 일상복을 입었다고 해 성적 욕망의 대상이 아니라고 단정할 수는 없다며 유죄로 판단한 바 있다. 의사에 반해 성적 대상화 우려가 있는 촬영은 불법이라는 의미다. 김기윤 변호사는 특정인물의 얼굴 역시 개인정보에 해당하기 때문에 이를 찍어 공개한 것은 개인정보보호법 위반에 해당할 소지가 있다며 특정 여성의 신체부위가 노출된 영상이라면 얼굴 노출 여부와 촬영 구도 등을 종합적으로 따져 성폭력범죄의 처벌 등에 관한 특례법 위반(카메라 등을 이용한 촬영)이 적용된다고 판단할 수 있다고 지적했다.\"\n",
    "prediction = predict_article_lr(new_article)\n",
    "print(f'Prediction for the new article: {prediction}')"
   ]
  },
  {
   "cell_type": "markdown",
   "metadata": {},
   "source": [
    "비낚시성 기사를 사실이라고 잘 분류함"
   ]
  },
  {
   "cell_type": "markdown",
   "metadata": {},
   "source": [
    "#### 3. 최적 모델 선정 : Random Forest"
   ]
  },
  {
   "cell_type": "markdown",
   "metadata": {},
   "source": [
    "1) Logistic Regression 모델이 나머지 Random Forest 와 LSTM 모델과 비교했을 때 정확성이 조금 떨어짐.\n",
    "2) Random Forest 와 LSTM 의 정확성이나 F1 score 은 서로 미세하게 차이나지만 거의 비슷하다고 보여짐.\n",
    "3) 하지만 새로운 데이터를 검증 시, LSTM 으로 학습한 모델은 분류를 제대로 못하는 경우도 발생.\n",
    "4) 또한, LSTM 으로 학습한 모델은 Valid data 의 loss 값이 너무 큼.\n",
    "5) 따라서, 위의 여러가지 상황들을 놓고 판단해보았을 때 Random Forest 모델로 학습한 것이 가장 적합하다고 여겨짐."
   ]
  },
  {
   "cell_type": "markdown",
   "metadata": {},
   "source": [
    "#### 4. 기대효과"
   ]
  },
  {
   "cell_type": "markdown",
   "metadata": {},
   "source": [
    "거짓 기사가 난무하는 요즘 시대에 개개인이 어떠한 상황에 대해서 사실과 거짓을 판별할 줄 아는 능력이 있어야 함.\n",
    "\n",
    "하지만 어릴때부터 이런 인터넷의 시대에서 자라기 때문에 판별 능력이 예전보다 저하될 것으로 전문가들은 내다보고 있음.\n",
    "\n",
    "또한, 연예인 뿐만 아니라 일반인들도 거짓 기사 때문에 피해를 보고 있음.\n",
    "\n",
    "따라서, 기사들이 진실인지 거짓인지 판별해주는 (스팸 문자를 판별해서 걸러주는 것과 같은 기능) 모델이 있다면 도움이 될 것으로 예상함. "
   ]
  }
 ],
 "metadata": {
  "kernelspec": {
   "display_name": "Python 3",
   "language": "python",
   "name": "python3"
  },
  "language_info": {
   "name": "python",
   "version": "3.10.4"
  }
 },
 "nbformat": 4,
 "nbformat_minor": 2
}
