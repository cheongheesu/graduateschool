{
 "cells": [
  {
   "cell_type": "code",
   "execution_count": 1,
   "metadata": {},
   "outputs": [],
   "source": [
    "# 데이터 로드\n",
    "import pandas as pd\n",
    "\n",
    "train = pd.read_csv('C:/Users/sport/OneDrive/바탕 화면/VSC/train.csv')\n",
    "valid = pd.read_csv('C:/Users/sport/OneDrive/바탕 화면/VSC/valid.csv')"
   ]
  },
  {
   "cell_type": "code",
   "execution_count": 2,
   "metadata": {},
   "outputs": [
    {
     "name": "stdout",
     "output_type": "stream",
     "text": [
      "clickbaitClass\n",
      "0    40000\n",
      "1    40000\n",
      "Name: count, dtype: int64\n",
      "clickbaitClass\n",
      "0    10000\n",
      "1    10000\n",
      "Name: count, dtype: int64\n"
     ]
    }
   ],
   "source": [
    "import pandas as pd\n",
    "\n",
    "train_clickbait_0 = train[train['clickbaitClass'] == 0].sample(n=40000, random_state=42)\n",
    "train_clickbait_1 = train[train['clickbaitClass'] == 1].sample(n=40000, random_state=42)\n",
    "train_sampled = pd.concat([train_clickbait_0, train_clickbait_1], ignore_index=True)\n",
    "\n",
    "valid_clickbait_0 = valid[valid['clickbaitClass'] == 0].sample(n=10000, random_state=42)\n",
    "valid_clickbait_1 = valid[valid['clickbaitClass'] == 1].sample(n=10000, random_state=42)\n",
    "valid_sampled = pd.concat([valid_clickbait_0, valid_clickbait_1], ignore_index=True)\n",
    "\n",
    "# 데이터 확인\n",
    "print(train_sampled['clickbaitClass'].value_counts())\n",
    "print(valid_sampled['clickbaitClass'].value_counts())"
   ]
  },
  {
   "cell_type": "code",
   "execution_count": 3,
   "metadata": {},
   "outputs": [],
   "source": [
    "from tensorflow.keras.preprocessing.text import Tokenizer\n",
    "from tensorflow.keras.preprocessing.sequence import pad_sequences\n",
    "import numpy as np\n",
    "\n",
    "# 데이터 추출\n",
    "X_train = train_sampled['newsContent'].tolist()\n",
    "y_train = train_sampled['clickbaitClass'].tolist()\n",
    "X_val = valid_sampled['newsContent'].tolist()\n",
    "y_val = valid_sampled['clickbaitClass'].tolist()"
   ]
  },
  {
   "cell_type": "code",
   "execution_count": 4,
   "metadata": {},
   "outputs": [],
   "source": [
    "# TF-IDF 벡터화\n",
    "from sklearn.feature_extraction.text import TfidfVectorizer\n",
    "\n",
    "tfidf_vectorizer = TfidfVectorizer(max_features=5000)\n",
    "X_train_tfidf = tfidf_vectorizer.fit_transform(X_train)\n",
    "X_val_tfidf = tfidf_vectorizer.transform(X_val)"
   ]
  },
  {
   "cell_type": "code",
   "execution_count": 5,
   "metadata": {},
   "outputs": [],
   "source": [
    "from sklearn.svm import SVC\n",
    "\n",
    "# SVM 모델 학습\n",
    "svm_model = SVC(kernel='linear', C=1.0, random_state=42)\n",
    "svm_model.fit(X_train_tfidf, y_train)"
   ]
  },
  {
   "cell_type": "code",
   "execution_count": null,
   "metadata": {},
   "outputs": [
    {
     "ename": "NameError",
     "evalue": "name 'accuracy_score' is not defined",
     "output_type": "error",
     "traceback": [
      "\u001b[1;31m---------------------------------------------------------------------------\u001b[0m",
      "\u001b[1;31mNameError\u001b[0m                                 Traceback (most recent call last)",
      "Cell \u001b[1;32mIn[8], line 2\u001b[0m\n\u001b[0;32m      1\u001b[0m \u001b[38;5;66;03m# 모델 평가\u001b[39;00m\n\u001b[1;32m----> 2\u001b[0m accuracy \u001b[38;5;241m=\u001b[39m \u001b[43maccuracy_score\u001b[49m(y_val, y_val_pred)\n\u001b[0;32m      3\u001b[0m \u001b[38;5;28mprint\u001b[39m(\u001b[38;5;124mf\u001b[39m\u001b[38;5;124m'\u001b[39m\u001b[38;5;124mValidation Accuracy: \u001b[39m\u001b[38;5;132;01m{\u001b[39;00maccuracy\u001b[38;5;132;01m:\u001b[39;00m\u001b[38;5;124m.4f\u001b[39m\u001b[38;5;132;01m}\u001b[39;00m\u001b[38;5;124m'\u001b[39m)\n",
      "\u001b[1;31mNameError\u001b[0m: name 'accuracy_score' is not defined"
     ]
    }
   ],
   "source": [
    "from sklearn.metrics import accuracy_score\n",
    "\n",
    "# 모델 평가\n",
    "accuracy = accuracy_score(y_val, y_val_pred)\n",
    "print(f'Validation Accuracy: {accuracy:.4f}')"
   ]
  },
  {
   "cell_type": "code",
   "execution_count": null,
   "metadata": {},
   "outputs": [],
   "source": [
    "from sklearn.metrics import classification_report,\n",
    "\n",
    "# 분류 보고서 출력\n",
    "report = classification_report(y_val, y_val_pred)\n",
    "print('Classification Report:')\n",
    "print(report)"
   ]
  },
  {
   "cell_type": "code",
   "execution_count": null,
   "metadata": {},
   "outputs": [
    {
     "name": "stdout",
     "output_type": "stream",
     "text": [
      "Confusion Matrix:\n",
      "[[6779 3221]\n",
      " [3777 6223]]\n"
     ]
    }
   ],
   "source": [
    "from sklearn.metrics import confusion_matrix\n",
    "import seaborn as sns\n",
    "import matplotlib.pyplot as plt\n",
    "\n",
    "# 혼동 행렬 계산\n",
    "conf_matrix = confusion_matrix(y_val, y_val_pred)\n",
    "\n",
    "# 혼동 행렬 출력\n",
    "print('Confusion Matrix:')\n",
    "print(conf_matrix)"
   ]
  },
  {
   "cell_type": "code",
   "execution_count": null,
   "metadata": {},
   "outputs": [],
   "source": [
    "# 새로운 기사 데이터\n",
    "new_articles = [\"경찰은 불법촬영 신고 건수가 늘어나고 있다면서도 정확한 기준선이 없어 난감하다는 입장이다. 관련 업무를 담당하는 한 경찰 관계자는 의사에 반해 특정 부위 등을 반복해 촬영한 것이면 당연히 불법행위가 되지만 단순히 길거리를 촬영한 영상이면 현장에서 판단이 어려운 것은 사실이라며 사안에 따라 성범죄 전과 등 종합적으로 판단해 수사하고 있다고 설명했다. 법조계는 이같은 영상 촬영이 사전 동의 없이 이뤄지거나 특정 인물을 부각해 반복적으로 찍었다면 불법 소지가 있다고 경고한다. 지난 1월 대법원은 버스에서 레깅스 차림의 여성을 8초가량 촬영한 남성을 일상복을 입었다고 해 성적 욕망의 대상이 아니라고 단정할 수는 없다며 유죄로 판단한 바 있다. 의사에 반해 성적 대상화 우려가 있는 촬영은 불법이라는 의미다. 김기윤 변호사는 특정인물의 얼굴 역시 개인정보에 해당하기 때문에 이를 찍어 공개한 것은 개인정보보호법 위반에 해당할 소지가 있다며 특정 여성의 신체부위가 노출된 영상이라면 얼굴 노출 여부와 촬영 구도 등을 종합적으로 따져 성폭력범죄의 처벌 등에 관한 특례법 위반(카메라 등을 이용한 촬영)이 적용된다고 판단할 수 있다고 지적했다.\"]\n",
    "\n",
    "# 새로운 기사 데이터 전처리 (TF-IDF 벡터화)\n",
    "new_articles_tfidf = tfidf_vectorizer.transform(new_articles)\n",
    "\n",
    "# 모델을 사용하여 예측\n",
    "new_predictions = svm_model.predict(new_articles_tfidf)\n",
    "\n",
    "# 예측 결과 확인\n",
    "for article, prediction in zip(new_articles, new_predictions):\n",
    "    print(f\"Article: {article}\\nPrediction (Clickbait=0, Not Clickbait=1): {prediction}\\n\")"
   ]
  }
 ],
 "metadata": {
  "kernelspec": {
   "display_name": "Python 3",
   "language": "python",
   "name": "python3"
  },
  "language_info": {
   "codemirror_mode": {
    "name": "ipython",
    "version": 3
   },
   "file_extension": ".py",
   "mimetype": "text/x-python",
   "name": "python",
   "nbconvert_exporter": "python",
   "pygments_lexer": "ipython3",
   "version": "3.10.4"
  }
 },
 "nbformat": 4,
 "nbformat_minor": 2
}
