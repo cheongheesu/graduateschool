{
  "nbformat": 4,
  "nbformat_minor": 0,
  "metadata": {
    "colab": {
      "provenance": []
    },
    "kernelspec": {
      "name": "python3",
      "display_name": "Python 3"
    },
    "language_info": {
      "name": "python"
    }
  },
  "cells": [
    {
      "cell_type": "code",
      "execution_count": 18,
      "metadata": {
        "id": "fGBwrrGK64xf"
      },
      "outputs": [],
      "source": [
        "import re\n",
        "import ujson\n",
        "from konlpy.tag import Komoran"
      ]
    },
    {
      "cell_type": "code",
      "source": [
        "def split_sentences(text):\n",
        "  all_sentences = []\n",
        "  lines = [line for line in text.strip().splitlines()if line.strip]\n",
        "\n",
        "  for line in lines:\n",
        "    sentences=re.split(\"(?<=[.?!]) \", line)\n",
        "    all_sentences += sentences\n",
        "\n",
        "  return all_sentences"
      ],
      "metadata": {
        "id": "OtLKT3VgI6kc"
      },
      "execution_count": 19,
      "outputs": []
    },
    {
      "cell_type": "code",
      "source": [
        "def get_morph_anal(analyzer, text):\n",
        "  sent_morph_anals = []\n",
        "  sentences = split_sentences(text)\n",
        "\n",
        "  for sentence in sentences:\n",
        "    sent_morph_anal = analyzer.pos(sentence)\n",
        "    sent_morph_anals.append(sent_morph_anal)\n",
        "\n",
        "  return sent_morph_anals"
      ],
      "metadata": {
        "id": "QT0PguT5J_KL"
      },
      "execution_count": 20,
      "outputs": []
    },
    {
      "cell_type": "code",
      "source": [
        "def main():\n",
        "  my_text = \"\"\" <벌레이야기>\n",
        "\n",
        "1\n",
        "아내는 알암이의 돌연스런 가출이 유괴에 의한 실종으로 확실시되고 난 다음에도 한동안은 악착스럽게 자신을 잘 견뎌 나가고 있었다.\n",
        "그것은 아이가 지난해 5월 초, 어느 날 알암이가 학교에서 돌아올 시각이 훨씬 지나도록 귀가를 안 했다.\n",
        "\"\"\"\n",
        "\n",
        "  komoran = Komoran()\n",
        "  ma_res = get_morph_anal(komoran, my_text)\n",
        "  print(ma_res)"
      ],
      "metadata": {
        "id": "CiXqBsBzKbb-"
      },
      "execution_count": 21,
      "outputs": []
    },
    {
      "cell_type": "code",
      "source": [
        "main()"
      ],
      "metadata": {
        "colab": {
          "base_uri": "https://localhost:8080/"
        },
        "id": "SL1edsD_LHrz",
        "outputId": "e20b1523-a78a-4841-a087-55d42712ca18"
      },
      "execution_count": 22,
      "outputs": [
        {
          "output_type": "stream",
          "name": "stdout",
          "text": [
            "[[('<', 'SS'), ('벌레', 'NNP'), ('이야기', 'NNP'), ('>', 'SS')], [], [('1', 'SN')], [('아내', 'NNG'), ('는', 'JX'), ('알', 'NNG'), ('암', 'NNG'), ('이', 'NNP'), ('의', 'JKG'), ('돌연', 'MAG'), ('스럽', 'XSA'), ('ㄴ', 'ETM'), ('가출', 'NNP'), ('이', 'JKS'), ('유괴', 'NNP'), ('에', 'JKB'), ('의하', 'VV'), ('ㄴ', 'ETM'), ('실종', 'NNP'), ('으로', 'JKB'), ('확실', 'XR'), ('시', 'XSN'), ('되', 'XSV'), ('고', 'EC'), ('나', 'VV'), ('ㄴ', 'ETM'), ('다음', 'NNG'), ('에', 'JKB'), ('도', 'JX'), ('한동안', 'NNG'), ('은', 'JX'), ('악착', 'NNG'), ('스럽', 'XSA'), ('게', 'EC'), ('자신', 'NNG'), ('을', 'JKO'), ('잘', 'MAG'), ('견디', 'VV'), ('어', 'EC'), ('나가', 'VV'), ('고', 'EC'), ('있', 'VX'), ('었', 'EP'), ('다', 'EF'), ('.', 'SF')], [('그것', 'NP'), ('은', 'JX'), ('아이', 'NNG'), ('가', 'JKS'), ('지난해', 'NNG'), ('5월', 'NNP'), ('초', 'NNB'), (',', 'SP'), ('어느', 'MM'), ('날', 'NNG'), ('알', 'NNG'), ('암', 'NNG'), ('이', 'NNP'), ('가', 'JKS'), ('학교', 'NNG'), ('에서', 'JKB'), ('돌아오', 'VV'), ('ㄹ', 'ETM'), ('시각', 'NNG'), ('이', 'JKS'), ('훨씬', 'MAG'), ('지나', 'VV'), ('도록', 'EC'), ('귀가', 'NNG'), ('를', 'JKO'), ('안', 'MAG'), ('하', 'VV'), ('았', 'EP'), ('다', 'EF'), ('.', 'SF')]]\n"
          ]
        }
      ]
    }
  ]
}